{
 "cells": [
  {
   "cell_type": "code",
   "execution_count": 1,
   "metadata": {
    "collapsed": true
   },
   "outputs": [],
   "source": [
    "N = 123402"
   ]
  },
  {
   "cell_type": "code",
   "execution_count": 6,
   "outputs": [
    {
     "data": {
      "text/plain": "0"
     },
     "execution_count": 6,
     "metadata": {},
     "output_type": "execute_result"
    }
   ],
   "source": [
    "len(str(N)) % 2"
   ],
   "metadata": {
    "collapsed": false
   }
  },
  {
   "cell_type": "code",
   "execution_count": 14,
   "outputs": [
    {
     "name": "stdout",
     "output_type": "stream",
     "text": [
      "0\n",
      "1\n",
      "2\n",
      "LUCKY\n"
     ]
    }
   ],
   "source": [
    "left_sum = 0\n",
    "right_sum = 0\n",
    "for index, num in enumerate(str(N)):\n",
    "    if index < (len(str(N)) // 2):\n",
    "        left_sum += int(num)\n",
    "    else:\n",
    "        right_sum += int(num)\n",
    "\n",
    "if left_sum == right_sum:\n",
    "    print(\"LUCKY\")\n",
    "else:\n",
    "    print(\"READY\")"
   ],
   "metadata": {
    "collapsed": false
   }
  },
  {
   "cell_type": "code",
   "execution_count": 21,
   "outputs": [
    {
     "name": "stdout",
     "output_type": "stream",
     "text": [
      "123402\n",
      "6\n",
      "6\n"
     ]
    }
   ],
   "source": [
    "print(N)\n",
    "N = str(N)\n",
    "left_sum = 0\n",
    "right_sum = 0\n",
    "\n",
    "for index in range(len(N)//2):\n",
    "    left_sum += int(N[index])\n",
    "for index in range(len(N)//2, len(N)):\n",
    "    right_sum += int(N[index])\n",
    "\n",
    "print(left_sum)\n",
    "print(right_sum)\n"
   ],
   "metadata": {
    "collapsed": false
   }
  },
  {
   "cell_type": "code",
   "execution_count": 22,
   "outputs": [],
   "source": [
    "s = \"aabbaccc\""
   ],
   "metadata": {
    "collapsed": false
   }
  },
  {
   "cell_type": "code",
   "execution_count": 30,
   "outputs": [
    {
     "name": "stdout",
     "output_type": "stream",
     "text": [
      "a\n",
      "======|\n",
      "2a\n",
      "2a2b\n",
      "2a2ba\n",
      "2a2ba3c\n",
      "aa\n",
      "======|\n",
      "aa\n",
      "aabb\n",
      "aabbac\n",
      "aabbaccc\n",
      "aab\n",
      "======|\n",
      "aab\n",
      "aabbac\n",
      "aabbaccc\n",
      "aabb\n",
      "======|\n",
      "aabb\n",
      "aabbaccc\n",
      "aabba\n",
      "======|\n",
      "aabba\n",
      "aabbaccc\n",
      "aabbac\n",
      "======|\n",
      "aabbac\n",
      "aabbaccc\n",
      "aabbacc\n",
      "======|\n",
      "aabbacc\n",
      "aabbaccc\n",
      "aabbaccc\n",
      "======|\n",
      "aabbaccc\n",
      "7\n"
     ]
    }
   ],
   "source": [
    "result = []\n",
    "for i in range(1, len(s)+1):\n",
    "    b = ''\n",
    "    cnt = 1\n",
    "    tmp = s[:i]\n",
    "    print(tmp)\n",
    "    print(\"======|\")\n",
    "    for j in range(i, len(s)+i, i):\n",
    "        if tmp == s[j:i+j]:\n",
    "            cnt += 1\n",
    "        else:\n",
    "            if cnt != 1:\n",
    "                b = b+str(cnt)+tmp\n",
    "                print(b)\n",
    "            else:\n",
    "                b = b+tmp\n",
    "                print(b)\n",
    "            tmp = s[j:j+i]\n",
    "            cnt =1\n",
    "    result.append(len(b))\n",
    "print(min(result))\n"
   ],
   "metadata": {
    "collapsed": false
   }
  },
  {
   "cell_type": "code",
   "execution_count": 1,
   "outputs": [],
   "source": [
    "# STACK 자료구조에 기초 한다.\n",
    "# 기본적으로 list은 Stack\n",
    "def dfs(graph, v, visited):\n",
    "    visited[v] = True\n",
    "    print(v, end='')\n",
    "    for i in graph[v]:\n",
    "        if not visited[i]:\n",
    "            dfs(graph, i, visited)"
   ],
   "metadata": {
    "collapsed": false
   }
  },
  {
   "cell_type": "code",
   "execution_count": 2,
   "outputs": [
    {
     "name": "stdout",
     "output_type": "stream",
     "text": [
      "[False, False, False, False, False, False, False, False, False]\n"
     ]
    }
   ],
   "source": [
    "visited = [False] * 9\n",
    "print(visited)"
   ],
   "metadata": {
    "collapsed": false
   }
  },
  {
   "cell_type": "code",
   "execution_count": 3,
   "outputs": [],
   "source": [
    "from collections import deque\n",
    "\n",
    "def bfs(graph, start, visited):\n",
    "    queue = deque([start])\n",
    "\n",
    "    visited[start] = True\n",
    "\n",
    "    while queue:\n",
    "        v = queue.popleft()\n",
    "        print(v, end='')\n",
    "        for i in graph"
   ],
   "metadata": {
    "collapsed": false
   }
  },
  {
   "cell_type": "code",
   "execution_count": 6,
   "outputs": [],
   "source": [
    "numbers = [4, 1, 2, 1]\n",
    "target = 4"
   ],
   "metadata": {
    "collapsed": false
   }
  },
  {
   "cell_type": "code",
   "execution_count": 12,
   "outputs": [],
   "source": [
    "from collections import deque\n",
    "\n",
    "def solution(numbers, target):\n",
    "    answer = 0\n",
    "    queue = deque()\n",
    "\n",
    "    n = len(numbers)\n",
    "    queue.append([numbers[0], 0])\n",
    "    queue.append([-1*numbers[0], 0])\n",
    "    print(queue)\n",
    "    while queue:\n",
    "        temp, idx = queue.popleft()\n",
    "        idx += 1\n",
    "        if idx < n:\n",
    "            queue.append([temp+numbers[idx], idx])\n",
    "            queue.append([temp-numbers[idx], idx])\n",
    "            print(queue)\n",
    "\n",
    "        else:\n",
    "            print(temp)\n",
    "            print(queue)\n",
    "            if temp == target:\n",
    "                answer += 1\n",
    "                print(\"count up\")\n",
    "    return answer"
   ],
   "metadata": {
    "collapsed": false
   }
  },
  {
   "cell_type": "code",
   "execution_count": 13,
   "outputs": [
    {
     "name": "stdout",
     "output_type": "stream",
     "text": [
      "deque([[4, 0], [-4, 0]])\n",
      "deque([[-4, 0], [5, 1], [3, 1]])\n",
      "deque([[5, 1], [3, 1], [-3, 1], [-5, 1]])\n",
      "deque([[3, 1], [-3, 1], [-5, 1], [7, 2], [3, 2]])\n",
      "deque([[-3, 1], [-5, 1], [7, 2], [3, 2], [5, 2], [1, 2]])\n",
      "deque([[-5, 1], [7, 2], [3, 2], [5, 2], [1, 2], [-1, 2], [-5, 2]])\n",
      "deque([[7, 2], [3, 2], [5, 2], [1, 2], [-1, 2], [-5, 2], [-3, 2], [-7, 2]])\n",
      "deque([[3, 2], [5, 2], [1, 2], [-1, 2], [-5, 2], [-3, 2], [-7, 2], [8, 3], [6, 3]])\n",
      "deque([[5, 2], [1, 2], [-1, 2], [-5, 2], [-3, 2], [-7, 2], [8, 3], [6, 3], [4, 3], [2, 3]])\n",
      "deque([[1, 2], [-1, 2], [-5, 2], [-3, 2], [-7, 2], [8, 3], [6, 3], [4, 3], [2, 3], [6, 3], [4, 3]])\n",
      "deque([[-1, 2], [-5, 2], [-3, 2], [-7, 2], [8, 3], [6, 3], [4, 3], [2, 3], [6, 3], [4, 3], [2, 3], [0, 3]])\n",
      "deque([[-5, 2], [-3, 2], [-7, 2], [8, 3], [6, 3], [4, 3], [2, 3], [6, 3], [4, 3], [2, 3], [0, 3], [0, 3], [-2, 3]])\n",
      "deque([[-3, 2], [-7, 2], [8, 3], [6, 3], [4, 3], [2, 3], [6, 3], [4, 3], [2, 3], [0, 3], [0, 3], [-2, 3], [-4, 3], [-6, 3]])\n",
      "deque([[-7, 2], [8, 3], [6, 3], [4, 3], [2, 3], [6, 3], [4, 3], [2, 3], [0, 3], [0, 3], [-2, 3], [-4, 3], [-6, 3], [-2, 3], [-4, 3]])\n",
      "deque([[8, 3], [6, 3], [4, 3], [2, 3], [6, 3], [4, 3], [2, 3], [0, 3], [0, 3], [-2, 3], [-4, 3], [-6, 3], [-2, 3], [-4, 3], [-6, 3], [-8, 3]])\n",
      "8\n",
      "deque([[6, 3], [4, 3], [2, 3], [6, 3], [4, 3], [2, 3], [0, 3], [0, 3], [-2, 3], [-4, 3], [-6, 3], [-2, 3], [-4, 3], [-6, 3], [-8, 3]])\n",
      "6\n",
      "deque([[4, 3], [2, 3], [6, 3], [4, 3], [2, 3], [0, 3], [0, 3], [-2, 3], [-4, 3], [-6, 3], [-2, 3], [-4, 3], [-6, 3], [-8, 3]])\n",
      "4\n",
      "deque([[2, 3], [6, 3], [4, 3], [2, 3], [0, 3], [0, 3], [-2, 3], [-4, 3], [-6, 3], [-2, 3], [-4, 3], [-6, 3], [-8, 3]])\n",
      "count up\n",
      "2\n",
      "deque([[6, 3], [4, 3], [2, 3], [0, 3], [0, 3], [-2, 3], [-4, 3], [-6, 3], [-2, 3], [-4, 3], [-6, 3], [-8, 3]])\n",
      "6\n",
      "deque([[4, 3], [2, 3], [0, 3], [0, 3], [-2, 3], [-4, 3], [-6, 3], [-2, 3], [-4, 3], [-6, 3], [-8, 3]])\n",
      "4\n",
      "deque([[2, 3], [0, 3], [0, 3], [-2, 3], [-4, 3], [-6, 3], [-2, 3], [-4, 3], [-6, 3], [-8, 3]])\n",
      "count up\n",
      "2\n",
      "deque([[0, 3], [0, 3], [-2, 3], [-4, 3], [-6, 3], [-2, 3], [-4, 3], [-6, 3], [-8, 3]])\n",
      "0\n",
      "deque([[0, 3], [-2, 3], [-4, 3], [-6, 3], [-2, 3], [-4, 3], [-6, 3], [-8, 3]])\n",
      "0\n",
      "deque([[-2, 3], [-4, 3], [-6, 3], [-2, 3], [-4, 3], [-6, 3], [-8, 3]])\n",
      "-2\n",
      "deque([[-4, 3], [-6, 3], [-2, 3], [-4, 3], [-6, 3], [-8, 3]])\n",
      "-4\n",
      "deque([[-6, 3], [-2, 3], [-4, 3], [-6, 3], [-8, 3]])\n",
      "-6\n",
      "deque([[-2, 3], [-4, 3], [-6, 3], [-8, 3]])\n",
      "-2\n",
      "deque([[-4, 3], [-6, 3], [-8, 3]])\n",
      "-4\n",
      "deque([[-6, 3], [-8, 3]])\n",
      "-6\n",
      "deque([[-8, 3]])\n",
      "-8\n",
      "deque([])\n"
     ]
    },
    {
     "data": {
      "text/plain": "2"
     },
     "execution_count": 13,
     "metadata": {},
     "output_type": "execute_result"
    }
   ],
   "source": [
    "solution(numbers, target)"
   ],
   "metadata": {
    "collapsed": false
   }
  },
  {
   "cell_type": "code",
   "execution_count": 14,
   "outputs": [],
   "source": [
    "n = 3\n",
    "computers = [[1, 1, 0], [1, 1, 0], [0, 0, 1]]"
   ],
   "metadata": {
    "collapsed": false
   }
  },
  {
   "cell_type": "code",
   "execution_count": 15,
   "outputs": [],
   "source": [
    "def solution(n, computers):\n",
    "    answer = 0\n",
    "    visited = [False] * n\n",
    "\n",
    "    for i in range(n):\n",
    "        if visited[i] == False:\n",
    "            DFS(n, computers, visited, i)\n",
    "            answer += 1\n",
    "    return answer\n",
    "\n",
    "def DFS(n, computers, visited, start):\n",
    "    visited[start] == True\n",
    "    for i in range(n):\n",
    "        if i != start and computers[start][i] == 1:\n",
    "            if visited[i] == False:\n",
    "                DFS(n, computers, visited, i)\n",
    "    return"
   ],
   "metadata": {
    "collapsed": false
   }
  },
  {
   "cell_type": "code",
   "execution_count": null,
   "outputs": [],
   "source": [
    "from collections import deque\n",
    "\n",
    "def solution(begin, target, words):\n",
    "    answer = 0\n",
    "    queue = deque()\n",
    "\n",
    "    for i in words:\n",
    "        count = 0\n",
    "        for j in range(len(begin)):\n",
    "            if begin[j] != i[j]:\n",
    "                count += 1\n",
    "        if count == 1:\n",
    "            queue.append([i,0])\n",
    "            words.remove(i)\n",
    "    while queue:\n",
    "        temp, idx = queue.popleft()\n",
    "        idx += 1\n",
    "\n",
    "        if temp == target:\n",
    "            answer = idx\n",
    "        else:\n",
    "            for i in words:\n",
    "                for j in range(len(begin))\n",
    "\n",
    "    return"
   ],
   "metadata": {
    "collapsed": false
   }
  },
  {
   "cell_type": "code",
   "execution_count": 16,
   "outputs": [],
   "source": [
    "begin = \"hit\"\n",
    "target = \"cog\"\n",
    "words = [\"hot\", \"dot\", \"dog\", \"lot\", \"log\", \"cog\"]"
   ],
   "metadata": {
    "collapsed": false
   }
  },
  {
   "cell_type": "code",
   "execution_count": 29,
   "outputs": [],
   "source": [
    "from collections import deque\n",
    "\n",
    "def solution(begin, target, words):\n",
    "    answer = 0\n",
    "    queue = deque()\n",
    "\n",
    "    queue.append([begin, 0])\n",
    "    V = [0 for i in range(len(words))]\n",
    "    print(V)\n",
    "    while queue:\n",
    "        word, idx = queue.popleft()\n",
    "        print(word, idx)\n",
    "        if word == target:\n",
    "            answer = idx\n",
    "            break\n",
    "        for i in range(len(words)):\n",
    "            temp_cnt = 0\n",
    "            if not V[i]:\n",
    "                for j in range(len(word)):\n",
    "                    if word[j] != words[i][j]:\n",
    "                        temp_cnt += 1\n",
    "                if temp_cnt == 1:\n",
    "                    queue.append([words[i], idx+1])\n",
    "                    V[i] = 1\n",
    "    return answer"
   ],
   "metadata": {
    "collapsed": false
   }
  },
  {
   "cell_type": "code",
   "execution_count": 30,
   "outputs": [
    {
     "name": "stdout",
     "output_type": "stream",
     "text": [
      "[0, 0, 0, 0, 0, 0]\n",
      "hit 0\n",
      "hot 1\n",
      "dot 2\n",
      "lot 2\n",
      "dog 3\n",
      "log 3\n",
      "cog 4\n"
     ]
    },
    {
     "data": {
      "text/plain": "4"
     },
     "execution_count": 30,
     "metadata": {},
     "output_type": "execute_result"
    }
   ],
   "source": [
    "solution(begin, target, words)"
   ],
   "metadata": {
    "collapsed": false
   }
  },
  {
   "cell_type": "code",
   "execution_count": 32,
   "outputs": [],
   "source": [
    "from collections import deque\n",
    "\n",
    "def solution(begin, target, words):\n",
    "    answer = 0\n",
    "    queue = deque()\n",
    "    queue.append([begin, 0])\n",
    "    V = [0 for i in range(len(words))]\n",
    "    while queue:\n",
    "        word, idx = queue.popleft()\n",
    "\n",
    "        if word == target:\n",
    "            answer = idx\n",
    "            break\n",
    "        for i in range(len(words)):\n",
    "            temp_cnt = 0\n",
    "            if not V[i]:\n",
    "                for j in range(len(word)):\n",
    "                    if word[j] != words[i][j]:\n",
    "                        temp_cnt += 1\n",
    "                if temp_cnt == 1:\n",
    "                    queue.append([words[i], idx+1])\n",
    "                    V[i] = 1\n",
    "\n",
    "\n",
    "    return answer"
   ],
   "metadata": {
    "collapsed": false
   }
  },
  {
   "cell_type": "code",
   "execution_count": 33,
   "outputs": [
    {
     "data": {
      "text/plain": "4"
     },
     "execution_count": 33,
     "metadata": {},
     "output_type": "execute_result"
    }
   ],
   "source": [
    "solution(begin, target, words)"
   ],
   "metadata": {
    "collapsed": false
   }
  },
  {
   "cell_type": "code",
   "execution_count": 61,
   "outputs": [],
   "source": [
    "numbers = [4, 1, 2, 1]\n",
    "target = 4"
   ],
   "metadata": {
    "collapsed": false
   }
  },
  {
   "cell_type": "code",
   "execution_count": 53,
   "outputs": [],
   "source": [
    "from collections import deque\n",
    "\n",
    "\n",
    "def solution(numbers, target):\n",
    "    answer = 0\n",
    "    n = len(numbers)\n",
    "    queue = deque()\n",
    "    queue.append([numbers[0], 0])\n",
    "    queue.append([-1*numbers[0], 0])\n",
    "    print(queue)\n",
    "\n",
    "    while queue:\n",
    "        temp, idx = queue.popleft()\n",
    "        print(temp, idx)\n",
    "        idx += 1\n",
    "        if idx < n:\n",
    "            queue.append([temp+numbers[idx], idx])\n",
    "            queue.append([temp-numbers[idx], idx])\n",
    "            print(queue)\n",
    "        else:\n",
    "            print(temp)\n",
    "            print(queue)\n",
    "            if temp == target:\n",
    "                answer += 1\n",
    "                print(\"count up\")\n",
    "    return answer"
   ],
   "metadata": {
    "collapsed": false
   }
  },
  {
   "cell_type": "code",
   "execution_count": 54,
   "outputs": [
    {
     "name": "stdout",
     "output_type": "stream",
     "text": [
      "deque([[4, 0], [-4, 0]])\n",
      "4 0\n",
      "deque([[-4, 0], [5, 1], [3, 1]])\n",
      "-4 0\n",
      "deque([[5, 1], [3, 1], [-3, 1], [-5, 1]])\n",
      "5 1\n",
      "deque([[3, 1], [-3, 1], [-5, 1], [7, 2], [3, 2]])\n",
      "3 1\n",
      "deque([[-3, 1], [-5, 1], [7, 2], [3, 2], [5, 2], [1, 2]])\n",
      "-3 1\n",
      "deque([[-5, 1], [7, 2], [3, 2], [5, 2], [1, 2], [-1, 2], [-5, 2]])\n",
      "-5 1\n",
      "deque([[7, 2], [3, 2], [5, 2], [1, 2], [-1, 2], [-5, 2], [-3, 2], [-7, 2]])\n",
      "7 2\n",
      "deque([[3, 2], [5, 2], [1, 2], [-1, 2], [-5, 2], [-3, 2], [-7, 2], [8, 3], [6, 3]])\n",
      "3 2\n",
      "deque([[5, 2], [1, 2], [-1, 2], [-5, 2], [-3, 2], [-7, 2], [8, 3], [6, 3], [4, 3], [2, 3]])\n",
      "5 2\n",
      "deque([[1, 2], [-1, 2], [-5, 2], [-3, 2], [-7, 2], [8, 3], [6, 3], [4, 3], [2, 3], [6, 3], [4, 3]])\n",
      "1 2\n",
      "deque([[-1, 2], [-5, 2], [-3, 2], [-7, 2], [8, 3], [6, 3], [4, 3], [2, 3], [6, 3], [4, 3], [2, 3], [0, 3]])\n",
      "-1 2\n",
      "deque([[-5, 2], [-3, 2], [-7, 2], [8, 3], [6, 3], [4, 3], [2, 3], [6, 3], [4, 3], [2, 3], [0, 3], [0, 3], [-2, 3]])\n",
      "-5 2\n",
      "deque([[-3, 2], [-7, 2], [8, 3], [6, 3], [4, 3], [2, 3], [6, 3], [4, 3], [2, 3], [0, 3], [0, 3], [-2, 3], [-4, 3], [-6, 3]])\n",
      "-3 2\n",
      "deque([[-7, 2], [8, 3], [6, 3], [4, 3], [2, 3], [6, 3], [4, 3], [2, 3], [0, 3], [0, 3], [-2, 3], [-4, 3], [-6, 3], [-2, 3], [-4, 3]])\n",
      "-7 2\n",
      "deque([[8, 3], [6, 3], [4, 3], [2, 3], [6, 3], [4, 3], [2, 3], [0, 3], [0, 3], [-2, 3], [-4, 3], [-6, 3], [-2, 3], [-4, 3], [-6, 3], [-8, 3]])\n",
      "8 3\n",
      "8\n",
      "deque([[6, 3], [4, 3], [2, 3], [6, 3], [4, 3], [2, 3], [0, 3], [0, 3], [-2, 3], [-4, 3], [-6, 3], [-2, 3], [-4, 3], [-6, 3], [-8, 3]])\n",
      "6 3\n",
      "6\n",
      "deque([[4, 3], [2, 3], [6, 3], [4, 3], [2, 3], [0, 3], [0, 3], [-2, 3], [-4, 3], [-6, 3], [-2, 3], [-4, 3], [-6, 3], [-8, 3]])\n",
      "4 3\n",
      "4\n",
      "deque([[2, 3], [6, 3], [4, 3], [2, 3], [0, 3], [0, 3], [-2, 3], [-4, 3], [-6, 3], [-2, 3], [-4, 3], [-6, 3], [-8, 3]])\n",
      "count up\n",
      "2 3\n",
      "2\n",
      "deque([[6, 3], [4, 3], [2, 3], [0, 3], [0, 3], [-2, 3], [-4, 3], [-6, 3], [-2, 3], [-4, 3], [-6, 3], [-8, 3]])\n",
      "6 3\n",
      "6\n",
      "deque([[4, 3], [2, 3], [0, 3], [0, 3], [-2, 3], [-4, 3], [-6, 3], [-2, 3], [-4, 3], [-6, 3], [-8, 3]])\n",
      "4 3\n",
      "4\n",
      "deque([[2, 3], [0, 3], [0, 3], [-2, 3], [-4, 3], [-6, 3], [-2, 3], [-4, 3], [-6, 3], [-8, 3]])\n",
      "count up\n",
      "2 3\n",
      "2\n",
      "deque([[0, 3], [0, 3], [-2, 3], [-4, 3], [-6, 3], [-2, 3], [-4, 3], [-6, 3], [-8, 3]])\n",
      "0 3\n",
      "0\n",
      "deque([[0, 3], [-2, 3], [-4, 3], [-6, 3], [-2, 3], [-4, 3], [-6, 3], [-8, 3]])\n",
      "0 3\n",
      "0\n",
      "deque([[-2, 3], [-4, 3], [-6, 3], [-2, 3], [-4, 3], [-6, 3], [-8, 3]])\n",
      "-2 3\n",
      "-2\n",
      "deque([[-4, 3], [-6, 3], [-2, 3], [-4, 3], [-6, 3], [-8, 3]])\n",
      "-4 3\n",
      "-4\n",
      "deque([[-6, 3], [-2, 3], [-4, 3], [-6, 3], [-8, 3]])\n",
      "-6 3\n",
      "-6\n",
      "deque([[-2, 3], [-4, 3], [-6, 3], [-8, 3]])\n",
      "-2 3\n",
      "-2\n",
      "deque([[-4, 3], [-6, 3], [-8, 3]])\n",
      "-4 3\n",
      "-4\n",
      "deque([[-6, 3], [-8, 3]])\n",
      "-6 3\n",
      "-6\n",
      "deque([[-8, 3]])\n",
      "-8 3\n",
      "-8\n",
      "deque([])\n"
     ]
    },
    {
     "data": {
      "text/plain": "2"
     },
     "execution_count": 54,
     "metadata": {},
     "output_type": "execute_result"
    }
   ],
   "source": [
    "solution(numbers, target)"
   ],
   "metadata": {
    "collapsed": false
   }
  },
  {
   "cell_type": "code",
   "execution_count": 64,
   "outputs": [],
   "source": [
    "def solution(numbers, target):\n",
    "    answer = 0\n",
    "    queue = deque()\n",
    "\n",
    "    n = len(numbers)\n",
    "    queue.append([numbers[0], 0])\n",
    "    queue.append([-1*numbers[0], 0])\n",
    "\n",
    "    while queue:\n",
    "        temp, idx = queue.popleft()\n",
    "        idx += 1\n",
    "        if idx < n:\n",
    "            queue.append([temp+numbers[idx], idx])\n",
    "            queue.append([temp-numbers[idx], idx])\n",
    "            print(queue)\n",
    "        else:\n",
    "            if temp == target:\n",
    "                answer += 1\n",
    "\n",
    "    return answer"
   ],
   "metadata": {
    "collapsed": false
   }
  },
  {
   "cell_type": "code",
   "execution_count": 65,
   "outputs": [
    {
     "name": "stdout",
     "output_type": "stream",
     "text": [
      "deque([[-4, 0], [5, 1], [3, 1]])\n",
      "deque([[5, 1], [3, 1], [-3, 1], [-5, 1]])\n",
      "deque([[3, 1], [-3, 1], [-5, 1], [7, 2], [3, 2]])\n",
      "deque([[-3, 1], [-5, 1], [7, 2], [3, 2], [5, 2], [1, 2]])\n",
      "deque([[-5, 1], [7, 2], [3, 2], [5, 2], [1, 2], [-1, 2], [-5, 2]])\n",
      "deque([[7, 2], [3, 2], [5, 2], [1, 2], [-1, 2], [-5, 2], [-3, 2], [-7, 2]])\n",
      "deque([[3, 2], [5, 2], [1, 2], [-1, 2], [-5, 2], [-3, 2], [-7, 2], [8, 3], [6, 3]])\n",
      "deque([[5, 2], [1, 2], [-1, 2], [-5, 2], [-3, 2], [-7, 2], [8, 3], [6, 3], [4, 3], [2, 3]])\n",
      "deque([[1, 2], [-1, 2], [-5, 2], [-3, 2], [-7, 2], [8, 3], [6, 3], [4, 3], [2, 3], [6, 3], [4, 3]])\n",
      "deque([[-1, 2], [-5, 2], [-3, 2], [-7, 2], [8, 3], [6, 3], [4, 3], [2, 3], [6, 3], [4, 3], [2, 3], [0, 3]])\n",
      "deque([[-5, 2], [-3, 2], [-7, 2], [8, 3], [6, 3], [4, 3], [2, 3], [6, 3], [4, 3], [2, 3], [0, 3], [0, 3], [-2, 3]])\n",
      "deque([[-3, 2], [-7, 2], [8, 3], [6, 3], [4, 3], [2, 3], [6, 3], [4, 3], [2, 3], [0, 3], [0, 3], [-2, 3], [-4, 3], [-6, 3]])\n",
      "deque([[-7, 2], [8, 3], [6, 3], [4, 3], [2, 3], [6, 3], [4, 3], [2, 3], [0, 3], [0, 3], [-2, 3], [-4, 3], [-6, 3], [-2, 3], [-4, 3]])\n",
      "deque([[8, 3], [6, 3], [4, 3], [2, 3], [6, 3], [4, 3], [2, 3], [0, 3], [0, 3], [-2, 3], [-4, 3], [-6, 3], [-2, 3], [-4, 3], [-6, 3], [-8, 3]])\n"
     ]
    },
    {
     "data": {
      "text/plain": "2"
     },
     "execution_count": 65,
     "metadata": {},
     "output_type": "execute_result"
    }
   ],
   "source": [
    "solution(numbers, target)"
   ],
   "metadata": {
    "collapsed": false
   }
  },
  {
   "cell_type": "code",
   "execution_count": 82,
   "outputs": [],
   "source": [
    "sequence = [1, 2, 3, 4, 5]\n",
    "k = 7"
   ],
   "metadata": {
    "collapsed": false
   }
  },
  {
   "cell_type": "code",
   "execution_count": 109,
   "outputs": [],
   "source": [
    "def solution(sequence, k):\n",
    "    answer = []\n",
    "    n = len(sequence)\n",
    "    sequence_with_idx = [[num, idx] for idx, num in enumerate(sequence)]\n",
    "    print(sequence_with_idx)\n",
    "\n",
    "    sum = 0\n",
    "    for i in range(n):\n",
    "        temp = []\n",
    "        for j in sequence_with_idx[i:]:\n",
    "            print(j)\n",
    "            temp.append(j[1])\n",
    "            sum += j[0]\n",
    "\n",
    "            if sum == 7:\n",
    "                print(temp)\n",
    "                answer.append(temp)\n",
    "            print('=====')\n",
    "        sum = 0\n",
    "\n",
    "\n",
    "    return answer"
   ],
   "metadata": {
    "collapsed": false
   }
  },
  {
   "cell_type": "code",
   "execution_count": 110,
   "outputs": [
    {
     "name": "stdout",
     "output_type": "stream",
     "text": [
      "[[1, 0], [2, 1], [3, 2], [4, 3], [5, 4]]\n",
      "[1, 0]\n",
      "=====\n",
      "[2, 1]\n",
      "=====\n",
      "[3, 2]\n",
      "=====\n",
      "[4, 3]\n",
      "=====\n",
      "[5, 4]\n",
      "=====\n",
      "[2, 1]\n",
      "=====\n",
      "[3, 2]\n",
      "=====\n",
      "[4, 3]\n",
      "=====\n",
      "[5, 4]\n",
      "=====\n",
      "[3, 2]\n",
      "=====\n",
      "[4, 3]\n",
      "[2, 3]\n",
      "=====\n",
      "[5, 4]\n",
      "=====\n",
      "[4, 3]\n",
      "=====\n",
      "[5, 4]\n",
      "=====\n",
      "[5, 4]\n",
      "=====\n"
     ]
    },
    {
     "data": {
      "text/plain": "[[2, 3, 4]]"
     },
     "execution_count": 110,
     "metadata": {},
     "output_type": "execute_result"
    }
   ],
   "source": [
    "solution(sequence, k)"
   ],
   "metadata": {
    "collapsed": false
   }
  },
  {
   "cell_type": "code",
   "execution_count": 111,
   "outputs": [],
   "source": [
    "numbers = [4, 1, 2, 1]\n",
    "target = 4"
   ],
   "metadata": {
    "collapsed": false
   }
  },
  {
   "cell_type": "code",
   "execution_count": 116,
   "outputs": [],
   "source": [
    "from collections import deque\n",
    "\n",
    "def solution(numbers, target):\n",
    "    answer = 0\n",
    "    queue = deque()\n",
    "\n",
    "    queue.append([numbers[0], 0])\n",
    "    queue.append([-1*numbers[0], 0])\n",
    "    # print(queue)\n",
    "    n = len(numbers)\n",
    "\n",
    "    while queue:\n",
    "        temp, idx = queue.popleft()\n",
    "        idx += 1\n",
    "        if idx < n:\n",
    "            queue.append([temp+numbers[idx], idx])\n",
    "            queue.append([temp-numbers[idx], idx])\n",
    "\n",
    "        else:\n",
    "            if temp == target:\n",
    "                answer += 1\n",
    "    return answer"
   ],
   "metadata": {
    "collapsed": false
   }
  },
  {
   "cell_type": "code",
   "execution_count": 117,
   "outputs": [
    {
     "name": "stdout",
     "output_type": "stream",
     "text": [
      "deque([[4, 0], [-4, 0]])\n"
     ]
    },
    {
     "data": {
      "text/plain": "2"
     },
     "execution_count": 117,
     "metadata": {},
     "output_type": "execute_result"
    }
   ],
   "source": [
    "solution(numbers, target)"
   ],
   "metadata": {
    "collapsed": false
   }
  },
  {
   "cell_type": "code",
   "execution_count": 118,
   "outputs": [],
   "source": [
    "n = 3\n",
    "computers = [[1, 1, 0], [1, 1, 0], [0, 0, 1]]"
   ],
   "metadata": {
    "collapsed": false
   }
  },
  {
   "cell_type": "code",
   "execution_count": 119,
   "outputs": [],
   "source": [
    "def solution(n, computers):\n",
    "    answer = 0\n",
    "    v = [False] * n\n",
    "    for i in range(n):\n",
    "        if v[i] == False:\n",
    "            DFS(n, computers, v, i)\n",
    "            answer += 1\n",
    "\n",
    "    return answer\n",
    "\n",
    "def DFS(n, computers, v, start):\n",
    "    v[start] = True\n",
    "    for i in range(n):\n",
    "        if i != start and computers[start][i] == 1:\n",
    "            if v[i] == False:\n",
    "                DFS(n, computers, v, i)\n",
    "\n",
    "def DFS(n, computers, v, start):\n",
    "    v[start] == True\n",
    "    for i in range(n):\n",
    "        if i != start and computers[start][i] == 1:\n",
    "            if v[i] == False:\n",
    "                DFS(n, computers, visited, i)"
   ],
   "metadata": {
    "collapsed": false
   }
  },
  {
   "cell_type": "code",
   "execution_count": 120,
   "outputs": [
    {
     "name": "stdout",
     "output_type": "stream",
     "text": [
      "[True, True, True]\n"
     ]
    }
   ],
   "source": [
    "solution(n, computers)"
   ],
   "metadata": {
    "collapsed": false
   }
  },
  {
   "cell_type": "code",
   "execution_count": 145,
   "outputs": [
    {
     "data": {
      "text/plain": "5"
     },
     "execution_count": 145,
     "metadata": {},
     "output_type": "execute_result"
    }
   ],
   "source": [
    "numbers = [2, 3, 3, 5]\n",
    "max(numbers)"
   ],
   "metadata": {
    "collapsed": false
   }
  },
  {
   "cell_type": "code",
   "execution_count": 150,
   "outputs": [],
   "source": [
    "def solution(numbers):\n",
    "    stack = []\n",
    "    answer = [-1] * len(numbers)\n",
    "\n",
    "    print(answer)\n",
    "    for i in range(len(numbers)):\n",
    "        while (stack) and numbers[stack[-1]] < numbers[i]:\n",
    "            print(\"hello\")\n",
    "            answer[stack.pop()] = numbers[i]\n",
    "        stack.append(i)\n",
    "    return answer"
   ],
   "metadata": {
    "collapsed": false
   }
  },
  {
   "cell_type": "code",
   "execution_count": 151,
   "outputs": [
    {
     "name": "stdout",
     "output_type": "stream",
     "text": [
      "[-1, -1, -1, -1]\n",
      "hello\n",
      "hello\n",
      "hello\n"
     ]
    },
    {
     "data": {
      "text/plain": "[3, 5, 5, -1]"
     },
     "execution_count": 151,
     "metadata": {},
     "output_type": "execute_result"
    }
   ],
   "source": [
    "solution(numbers)"
   ],
   "metadata": {
    "collapsed": false
   }
  },
  {
   "cell_type": "code",
   "execution_count": 153,
   "outputs": [],
   "source": [
    "def solution(numbers):\n",
    "    stack = []\n",
    "    answer = [-1] * len(numbers)\n",
    "\n",
    "    for i in range(len(numbers)):\n",
    "        while (stack) and (numbers[stack[-1]] < numbers[i]):\n",
    "            answer[stack.pop()] = numbers[i]\n",
    "        stack.append(i)\n",
    "    return answer"
   ],
   "metadata": {
    "collapsed": false
   }
  },
  {
   "cell_type": "code",
   "execution_count": 154,
   "outputs": [
    {
     "data": {
      "text/plain": "[3, 5, 5, -1]"
     },
     "execution_count": 154,
     "metadata": {},
     "output_type": "execute_result"
    }
   ],
   "source": [
    "solution(numbers)"
   ],
   "metadata": {
    "collapsed": false
   }
  },
  {
   "cell_type": "code",
   "execution_count": 170,
   "outputs": [],
   "source": [
    "from itertools import combinations_with_replacement, combinations\n",
    "\n",
    "r1 = 2\n",
    "r2 = 3"
   ],
   "metadata": {
    "collapsed": false,
    "pycharm": {
     "name": "#%%ㄴ\n"
    }
   }
  },
  {
   "cell_type": "code",
   "execution_count": 201,
   "outputs": [],
   "source": [
    "import math\n",
    "\n",
    "def solution(r1, r2):\n",
    "    answer = 0\n",
    "\n",
    "    for i in range(1, r2+1):\n",
    "        if i < r1:\n",
    "            print(math.sqrt(r1**2 - i**2))\n",
    "            s = math.ceil(math.sqrt(r1**2 - i**2))\n",
    "            print('s', s)\n",
    "        else:\n",
    "            s = 0\n",
    "            print('s', s)\n",
    "        e = int(math.sqrt(r2**2-i**2))\n",
    "        print('e',e)\n",
    "        print(\"====\")\n",
    "    return"
   ],
   "metadata": {
    "collapsed": false
   }
  },
  {
   "cell_type": "code",
   "execution_count": 202,
   "outputs": [
    {
     "name": "stdout",
     "output_type": "stream",
     "text": [
      "1.7320508075688772\n",
      "s 2\n",
      "e 2\n",
      "====\n",
      "s 0\n",
      "e 2\n",
      "====\n",
      "s 0\n",
      "e 0\n",
      "====\n"
     ]
    }
   ],
   "source": [
    "solution(r1, r2)"
   ],
   "metadata": {
    "collapsed": false
   }
  },
  {
   "cell_type": "code",
   "execution_count": 2,
   "outputs": [],
   "source": [
    "sequence = [1, 1, 1, 2, 3, 4, 5]\n",
    "k = 5"
   ],
   "metadata": {
    "collapsed": false
   }
  },
  {
   "cell_type": "code",
   "execution_count": 11,
   "outputs": [],
   "source": [
    "## 프로그래머스 lv.2\n",
    "## 연속된 부분 수열의 합\n",
    "## left 포인터 right 포인터의 활용\n",
    "\n",
    "def solution(sequence, k):\n",
    "    answer = []\n",
    "    right = 0\n",
    "    count = 0\n",
    "\n",
    "    for left in range(len(sequence)):\n",
    "        while right < len(sequence) and count < k:\n",
    "            count += sequence[right]\n",
    "            right += 1\n",
    "\n",
    "        if count == k:\n",
    "            if not answer:\n",
    "                answer = [left, right-1]\n",
    "                print(answer)\n",
    "            else:\n",
    "                if answer[1]-answer[0] > right - 1 - left:\n",
    "                    answer = [left, right-1]\n",
    "                    print(\"check 1\", answer)\n",
    "                else:\n",
    "                    answer\n",
    "                    print(\"check 2\", answer)\n",
    "        count -= sequence[left]\n",
    "    return answer"
   ],
   "metadata": {
    "collapsed": false
   }
  },
  {
   "cell_type": "code",
   "execution_count": 12,
   "outputs": [
    {
     "name": "stdout",
     "output_type": "stream",
     "text": [
      "[0, 3]\n",
      "check 1 [3, 4]\n",
      "check 1 [6, 6]\n"
     ]
    },
    {
     "data": {
      "text/plain": "[6, 6]"
     },
     "execution_count": 12,
     "metadata": {},
     "output_type": "execute_result"
    }
   ],
   "source": [
    "solution(sequence, k)"
   ],
   "metadata": {
    "collapsed": false
   }
  },
  {
   "cell_type": "code",
   "execution_count": null,
   "outputs": [],
   "source": [
    "def solution(sequence, k):\n",
    "    answer = []\n",
    "    right = 0\n",
    "    count = 0\n",
    "\n",
    "    for left in range(len(sequence)):\n",
    "        while right < len(sequence) and count < k:\n",
    "            count += sequence[left]\n",
    "            right += 1\n",
    "\n",
    "        if count == k:\n",
    "            if not answer:\n",
    "                answer = [left, right-1]\n",
    "            else:\n",
    "                if (answer[1]-answer[0]) > ((right-1)-left):\n",
    "                    answer = [left, right-1]\n",
    "                else:\n",
    "                    answer\n",
    "        count -= sequence[left]\n",
    "    return answer"
   ],
   "metadata": {
    "collapsed": false
   }
  },
  {
   "cell_type": "code",
   "execution_count": null,
   "outputs": [],
   "source": [
    "def solution(sequence, k):\n",
    "    answer = []\n",
    "    right = 0\n",
    "    count = 0\n",
    "\n",
    "    for left in range(len(sequence)):\n",
    "        while right < len(sequence) and count < k:\n",
    "            count += sequence[left]\n",
    "            right += 1\n",
    "\n",
    "        if count == k:\n",
    "            if not answer:\n",
    "                answer = [left, right-1]\n",
    "            else:\n",
    "                if (answer[1]-answer[0]) > ((right-1)-left):\n",
    "                    answer = [left, right-1]\n",
    "                else:\n",
    "                    answer\n",
    "        count -= sequence[left]"
   ],
   "metadata": {
    "collapsed": false
   }
  }
 ],
 "metadata": {
  "kernelspec": {
   "display_name": "Python 3",
   "language": "python",
   "name": "python3"
  },
  "language_info": {
   "codemirror_mode": {
    "name": "ipython",
    "version": 2
   },
   "file_extension": ".py",
   "mimetype": "text/x-python",
   "name": "python",
   "nbconvert_exporter": "python",
   "pygments_lexer": "ipython2",
   "version": "2.7.6"
  }
 },
 "nbformat": 4,
 "nbformat_minor": 0
}
