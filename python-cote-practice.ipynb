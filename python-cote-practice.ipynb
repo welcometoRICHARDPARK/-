{
 "cells": [
  {
   "cell_type": "markdown",
   "metadata": {},
   "source": [
    "# 1. 그리디\n",
    "- 어떤 문제가 있을 때 단순 무식하게, 탐욕적으로 문제를 푸는 알고리즘. \n",
    "- 탐욕적 = 현재상황에서 지금 당장 좋은 것만 고르는 방법\n",
    "- 그리디 알고리즘의 문제 유형은 사전에 외우고 있지 않아도 풀 수 있을 가능성이 높은 문제 유형 \n",
    "- 기준에 따라 좋은 것을 선택하는 알고리즘 이므로 문제에서 '가장 큰 순서대로', '가장 작은 순서대로'와 같은 기준을 알게 모르게 제시해 준다. \n",
    "- 대부분의 그리디 알고리즘 문제에서는 문제 풀이를 위한 최소한의 아이디어를 떠올리고 이것이 정당한지 검토할 수 있어야 답을 도출할 수 있다. \n",
    "\n",
    "그리디 알고리즘 -> 다이나믹 프로그래밍 -> 그래프 알고리즘 "
   ]
  },
  {
   "cell_type": "code",
   "execution_count": 11,
   "metadata": {},
   "outputs": [
    {
     "name": "stdout",
     "output_type": "stream",
     "text": [
      "1\n"
     ]
    }
   ],
   "source": [
    "print(int(8/5))"
   ]
  },
  {
   "cell_type": "code",
   "execution_count": 12,
   "metadata": {},
   "outputs": [
    {
     "name": "stdout",
     "output_type": "stream",
     "text": [
      "2\n",
      "6\n"
     ]
    }
   ],
   "source": [
    "# 1-1 거스름돈 \n",
    "n = 1260\n",
    "count = 0\n",
    "\n",
    "print(1260 // 500) # % -> 나머지 , // -> 몫\n",
    "coin_types = [500, 100, 50, 10]\n",
    "\n",
    "for coin in coin_types :\n",
    "    count += n // coin\n",
    "    n %= coin\n",
    "\n",
    "print(count)"
   ]
  },
  {
   "cell_type": "code",
   "execution_count": 9,
   "metadata": {},
   "outputs": [
    {
     "name": "stdout",
     "output_type": "stream",
     "text": [
      "46\n"
     ]
    }
   ],
   "source": [
    "# 1-2 큰 수의 법칙\n",
    "\n",
    "# N M K 를 공백으로 구분하여 입력받기\n",
    "n, m, k = map(int, input().split())\n",
    "data = list(map(int, input().split()))\n",
    "\n",
    "data.sort()\n",
    "\n",
    "first = data[n-1]\n",
    "second = data[n-2]\n",
    "\n",
    "result = 0 \n",
    "\n",
    "while True :\n",
    "    for i in range(k) :\n",
    "        if m == 0:\n",
    "            break\n",
    "        result += first\n",
    "        m -= 1\n",
    "    if m == 0 :\n",
    "        break\n",
    "    result += second\n",
    "    m -= 1\n",
    "    \n",
    "print(result)"
   ]
  },
  {
   "cell_type": "markdown",
   "metadata": {},
   "source": [
    "'''\n",
    "반복되는 수열\n",
    "위의 문제에서 반복되는 수열의 길이는 k+1 이다. 따라서 m 을 (k+1) 로 나눈 몫이 수열이 반복되는 횟수가 된다. \n",
    "다시 여기에 k를 곱해주면 가장 큰 수가 등장하는 횟수가 된다. \n",
    "이때 m 이 (k+1)로 나눠떨어지지 않는 경우도 고려해야 한다. \n",
    "\n",
    "int(m/(k+1))*k + m % (k+1)\n",
    "'''"
   ]
  },
  {
   "cell_type": "code",
   "execution_count": 14,
   "metadata": {},
   "outputs": [
    {
     "name": "stdout",
     "output_type": "stream",
     "text": [
      "46\n"
     ]
    }
   ],
   "source": [
    "n, m, k = map(int, input().split())\n",
    "data = list(map(int, input().split()))\n",
    "\n",
    "data.sort()\n",
    "\n",
    "first = data[n-1]\n",
    "second = data[n-2]\n",
    "\n",
    "count = int(m/(k+1))*k +  m % (k+1)\n",
    "\n",
    "\n",
    "result = 0 \n",
    "result = first * count \n",
    "result += (m - count) * second\n",
    "\n",
    "print(result)\n",
    "    \n"
   ]
  },
  {
   "cell_type": "code",
   "execution_count": null,
   "metadata": {},
   "outputs": [],
   "source": []
  }
 ],
 "metadata": {
  "kernelspec": {
   "display_name": "Python 3.9.10 64-bit",
   "language": "python",
   "name": "python3"
  },
  "language_info": {
   "codemirror_mode": {
    "name": "ipython",
    "version": 3
   },
   "file_extension": ".py",
   "mimetype": "text/x-python",
   "name": "python",
   "nbconvert_exporter": "python",
   "pygments_lexer": "ipython3",
   "version": "3.9.10"
  },
  "orig_nbformat": 4,
  "vscode": {
   "interpreter": {
    "hash": "aee8b7b246df8f9039afb4144a1f6fd8d2ca17a180786b69acc140d282b71a49"
   }
  }
 },
 "nbformat": 4,
 "nbformat_minor": 2
}
