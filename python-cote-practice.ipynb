{
 "cells": [
  {
   "cell_type": "markdown",
   "metadata": {},
   "source": [
    "# 1. 그리디\n",
    "- 어떤 문제가 있을 때 단순 무식하게, 탐욕적으로 문제를 푸는 알고리즘. \n",
    "- 탐욕적 = 현재상황에서 지금 당장 좋은 것만 고르는 방법\n",
    "- 그리디 알고리즘의 문제 유형은 사전에 외우고 있지 않아도 풀 수 있을 가능성이 높은 문제 유형 \n",
    "- 기준에 따라 좋은 것을 선택하는 알고리즘 이므로 문제에서 '가장 큰 순서대로', '가장 작은 순서대로'와 같은 기준을 알게 모르게 제시해 준다. \n",
    "- 대부분의 그리디 알고리즘 문제에서는 문제 풀이를 위한 최소한의 아이디어를 떠올리고 이것이 정당한지 검토할 수 있어야 답을 도출할 수 있다. \n",
    "\n",
    "그리디 알고리즘 -> 다이나믹 프로그래밍 -> 그래프 알고리즘 "
   ]
  },
  {
   "cell_type": "code",
   "execution_count": 11,
   "metadata": {},
   "outputs": [
    {
     "name": "stdout",
     "output_type": "stream",
     "text": [
      "1\n"
     ]
    }
   ],
   "source": [
    "print(int(8/5))"
   ]
  },
  {
   "cell_type": "code",
   "execution_count": 12,
   "metadata": {},
   "outputs": [
    {
     "name": "stdout",
     "output_type": "stream",
     "text": [
      "2\n",
      "6\n"
     ]
    }
   ],
   "source": [
    "# 1-1 거스름돈 \n",
    "n = 1260\n",
    "count = 0\n",
    "\n",
    "print(1260 // 500) # % -> 나머지 , // -> 몫\n",
    "coin_types = [500, 100, 50, 10]\n",
    "\n",
    "for coin in coin_types :\n",
    "    count += n // coin\n",
    "    n %= coin\n",
    "\n",
    "print(count)"
   ]
  },
  {
   "cell_type": "code",
   "execution_count": 9,
   "metadata": {},
   "outputs": [
    {
     "name": "stdout",
     "output_type": "stream",
     "text": [
      "46\n"
     ]
    }
   ],
   "source": [
    "# 1-2 큰 수의 법칙\n",
    "\n",
    "# N M K 를 공백으로 구분하여 입력받기\n",
    "n, m, k = map(int, input().split())\n",
    "data = list(map(int, input().split()))\n",
    "\n",
    "data.sort()\n",
    "\n",
    "first = data[n-1]\n",
    "second = data[n-2]\n",
    "\n",
    "result = 0 \n",
    "\n",
    "while True :\n",
    "    for i in range(k) :\n",
    "        if m == 0:\n",
    "            break\n",
    "        result += first\n",
    "        m -= 1\n",
    "    if m == 0 :\n",
    "        break\n",
    "    result += second\n",
    "    m -= 1\n",
    "    \n",
    "print(result)"
   ]
  },
  {
   "cell_type": "markdown",
   "metadata": {},
   "source": [
    "'''\n",
    "반복되는 수열\n",
    "위의 문제에서 반복되는 수열의 길이는 k+1 이다. 따라서 m 을 (k+1) 로 나눈 몫이 수열이 반복되는 횟수가 된다. \n",
    "다시 여기에 k를 곱해주면 가장 큰 수가 등장하는 횟수가 된다. \n",
    "이때 m 이 (k+1)로 나눠떨어지지 않는 경우도 고려해야 한다. \n",
    "\n",
    "int(m/(k+1))*k + m % (k+1)\n",
    "'''"
   ]
  },
  {
   "cell_type": "code",
   "execution_count": 14,
   "metadata": {},
   "outputs": [
    {
     "name": "stdout",
     "output_type": "stream",
     "text": [
      "46\n"
     ]
    }
   ],
   "source": [
    "n, m, k = map(int, input().split())\n",
    "data = list(map(int, input().split()))\n",
    "\n",
    "data.sort()\n",
    "\n",
    "first = data[n-1]\n",
    "second = data[n-2]\n",
    "\n",
    "count = int(m/(k+1))*k +  m % (k+1)\n",
    "\n",
    "\n",
    "result = 0 \n",
    "result = first * count \n",
    "result += (m - count) * second\n",
    "\n",
    "print(result)\n",
    "    \n"
   ]
  },
  {
   "cell_type": "code",
   "execution_count": 18,
   "metadata": {},
   "outputs": [
    {
     "name": "stdout",
     "output_type": "stream",
     "text": [
      "3\n"
     ]
    }
   ],
   "source": [
    "# 1-3 숫자 카드 게임 \n",
    "# 나의 답안 \n",
    "n, m = map(int, input().split())\n",
    "\n",
    "min_value = []\n",
    "for i in range(n) :\n",
    "    data1 = list(map(int, input().split()))\n",
    "    min_value.append(data1[0])\n",
    "    \n",
    "    min_value.sort()\n",
    "    \n",
    "print(min_value[0])"
   ]
  },
  {
   "cell_type": "code",
   "execution_count": null,
   "metadata": {},
   "outputs": [],
   "source": [
    "# min() 함수를 이용하는 답안 예시\n",
    "n, m = map(int, input().split())\n",
    "\n",
    "result = 0\n",
    "for i in range(n) :\n",
    "    data = list(map(int, input().split()))\n",
    "    \n",
    "    min_value = min(data)\n",
    "    result = max(result, min_value)\n",
    "    \n",
    "print(result)\n"
   ]
  },
  {
   "cell_type": "code",
   "execution_count": 19,
   "metadata": {},
   "outputs": [
    {
     "ename": "ValueError",
     "evalue": "not enough values to unpack (expected 2, got 0)",
     "output_type": "error",
     "traceback": [
      "\u001b[0;31m---------------------------------------------------------------------------\u001b[0m",
      "\u001b[0;31mValueError\u001b[0m                                Traceback (most recent call last)",
      "\u001b[1;32m/Users/richardpark/python-cote/python-cote-practice.ipynb Cell 9'\u001b[0m in \u001b[0;36m<cell line: 2>\u001b[0;34m()\u001b[0m\n\u001b[1;32m      <a href='vscode-notebook-cell:/Users/richardpark/python-cote/python-cote-practice.ipynb#ch0000010?line=0'>1</a>\u001b[0m \u001b[39m# 2중 반복문 구조를 이용하는 답안 예시\u001b[39;00m\n\u001b[0;32m----> <a href='vscode-notebook-cell:/Users/richardpark/python-cote/python-cote-practice.ipynb#ch0000010?line=1'>2</a>\u001b[0m n, m \u001b[39m=\u001b[39m \u001b[39mmap\u001b[39m(\u001b[39mint\u001b[39m, \u001b[39minput\u001b[39m()\u001b[39m.\u001b[39msplit())\n\u001b[1;32m      <a href='vscode-notebook-cell:/Users/richardpark/python-cote/python-cote-practice.ipynb#ch0000010?line=3'>4</a>\u001b[0m result \u001b[39m=\u001b[39m \u001b[39m0\u001b[39m\n\u001b[1;32m      <a href='vscode-notebook-cell:/Users/richardpark/python-cote/python-cote-practice.ipynb#ch0000010?line=4'>5</a>\u001b[0m \u001b[39mfor\u001b[39;00m i \u001b[39min\u001b[39;00m \u001b[39mrange\u001b[39m(n) :\n",
      "\u001b[0;31mValueError\u001b[0m: not enough values to unpack (expected 2, got 0)"
     ]
    }
   ],
   "source": [
    "# 2중 반복문 구조를 이용하는 답안 예시\n",
    "n, m = map(int, input().split())\n",
    "\n",
    "result = 0\n",
    "for i in range(n) :\n",
    "    data = list(map(int, input().split()))\n",
    "    min_value = 10001\n",
    "    \n",
    "    for a in data :\n",
    "        min_value = min(min_value, 0)\n",
    "    result = max(result, min_value)\n",
    "    \n",
    "print(result)"
   ]
  },
  {
   "cell_type": "code",
   "execution_count": 25,
   "metadata": {},
   "outputs": [
    {
     "name": "stdout",
     "output_type": "stream",
     "text": [
      "2\n"
     ]
    }
   ],
   "source": [
    "# 1-4 1 이 될 때까지 \n",
    "n, k = map(int, input().split())\n",
    "\n",
    "count  = 0\n",
    "\n",
    "num = n \n",
    "\n",
    "while num >= k :\n",
    "    while(num % k) != 0 : \n",
    "        num -= 1\n",
    "        count += 1\n",
    "    num //= k \n",
    "    count += 1\n",
    "    \n",
    "while num > 1 :\n",
    "    num -= 1\n",
    "    count += 1\n",
    "\n",
    "print(count)"
   ]
  },
  {
   "cell_type": "code",
   "execution_count": null,
   "metadata": {},
   "outputs": [],
   "source": [
    "n, k = map(int, input().split())\n",
    "\n",
    "count = 0 \n",
    "\n",
    "# while True 인 무한 반복문을 만들경우 항상 break을 사용하여 탈출하도록 해줘야 한다. \n",
    "while True :\n",
    "    target = (n // k)*k\n",
    "    result += (n - target)\n",
    "    n = target\n",
    "    \n",
    "    if n < k :\n",
    "        break\n",
    "    result += 1\n",
    "    n //= k \n",
    "\n",
    "result += (n-1)\n",
    "print(result)"
   ]
  },
  {
   "cell_type": "markdown",
   "metadata": {},
   "source": [
    "# 2. 아이디어를 코드로 바꾸는 구현\n",
    "코딩 테스트에서 구현이란 -> 머리속에 있는 알고리즘을 소스코드로 바꾸는 과정이다. \n",
    "고민끝에 문제에 대한 정확한 풀이 방법이 떠오르면 바로 정답 처리를 받을 수 있을까? 그렇지 않다. 생각해낸 문제 풀이 방법을 우리가 원하는 파이썬 언어로 정확히 구현해냈을 때 비로소 정답 처리를 받을 수 있다. \n",
    "\n",
    "이 책에서는 완전 탐색, 시뮬레이션 유형을 모두 구현 유형으로 묶어서 다루고 있다. \n",
    "\n",
    "- 완전탐색 :\n",
    "모든 경우의 수를 주저 없이 다 계산하는 해결 방법\n",
    "\n",
    "- 시뮬레이션 :\n",
    "문제에서 제시한 알고리즘을 한 단계씩 차래대로 직접 수행해아 하는 문제 유형 "
   ]
  },
  {
   "cell_type": "markdown",
   "metadata": {},
   "source": [
    "## 2-1. 구현 시 고려해야 할 메모리 제약 사항 \n",
    "- 파이썬에서 리스트 크기\n",
    "파이썬에서 여러 개의 변수르 사용 할 때는 리스트를 이용한다. \n",
    "리스트의 길이 1000 -> 메모리 사용량 4KB\n",
    "리스트의 길이 1000000 -> 메모리 사용량 4MB\n"
   ]
  },
  {
   "cell_type": "code",
   "execution_count": 30,
   "metadata": {},
   "outputs": [
    {
     "ename": "ValueError",
     "evalue": "invalid literal for int() with base 10: ''",
     "output_type": "error",
     "traceback": [
      "\u001b[0;31m---------------------------------------------------------------------------\u001b[0m",
      "\u001b[0;31mValueError\u001b[0m                                Traceback (most recent call last)",
      "\u001b[1;32m/Users/richardpark/python-cote/python-cote-practice.ipynb Cell 14'\u001b[0m in \u001b[0;36m<cell line: 2>\u001b[0;34m()\u001b[0m\n\u001b[1;32m      <a href='vscode-notebook-cell:/Users/richardpark/python-cote/python-cote-practice.ipynb#ch0000013?line=0'>1</a>\u001b[0m \u001b[39m# 2-1 상하좌우 -> 일련의 명령에 따라서 개체를 차래대로 이동시킨다는 점에서  시뮬레이션 유형으로 분류되며 구현이 중요한 대표적인 문제 유형이다. \u001b[39;00m\n\u001b[0;32m----> <a href='vscode-notebook-cell:/Users/richardpark/python-cote/python-cote-practice.ipynb#ch0000013?line=1'>2</a>\u001b[0m n \u001b[39m=\u001b[39m \u001b[39mint\u001b[39;49m(\u001b[39minput\u001b[39;49m())\n\u001b[1;32m      <a href='vscode-notebook-cell:/Users/richardpark/python-cote/python-cote-practice.ipynb#ch0000013?line=2'>3</a>\u001b[0m x \u001b[39m=\u001b[39m \u001b[39m1\u001b[39m\n\u001b[1;32m      <a href='vscode-notebook-cell:/Users/richardpark/python-cote/python-cote-practice.ipynb#ch0000013?line=3'>4</a>\u001b[0m y \u001b[39m=\u001b[39m \u001b[39m1\u001b[39m\n",
      "\u001b[0;31mValueError\u001b[0m: invalid literal for int() with base 10: ''"
     ]
    }
   ],
   "source": [
    "# 2-1 상하좌우 -> 일련의 명령에 따라서 개체를 차래대로 이동시킨다는 점에서  시뮬레이션 유형으로 분류되며 구현이 중요한 대표적인 문제 유형이다. \n",
    "n = map(int, input())\n",
    "x = 1\n",
    "y = 1\n",
    "\n",
    "plans = input().split()\n",
    "\n",
    "dx = [0, 0 -1, 1]\n",
    "dy = [-1, 1, 0, 0]\n",
    "move_types = ['L', 'R', 'U', 'D']\n",
    "\n",
    "for plan in plans :\n",
    "    for i in range(len(move_types)) :\n",
    "        if plan == move_types[i] :\n",
    "            nx = x + dx[i]\n",
    "            ny = y + dy[i]\n",
    "    if nx < 1 or ny < 1 or nx > n or ny > n :\n",
    "        continue\n",
    "    \n",
    "    x,y = nx, ny\n",
    "\n",
    "print(x, y)"
   ]
  },
  {
   "cell_type": "code",
   "execution_count": 7,
   "metadata": {},
   "outputs": [
    {
     "ename": "TypeError",
     "evalue": "'str' object is not callable",
     "output_type": "error",
     "traceback": [
      "\u001b[0;31m---------------------------------------------------------------------------\u001b[0m",
      "\u001b[0;31mTypeError\u001b[0m                                 Traceback (most recent call last)",
      "\u001b[0;32m<ipython-input-7-e90c0903ff8e>\u001b[0m in \u001b[0;36m<module>\u001b[0;34m\u001b[0m\n\u001b[1;32m      1\u001b[0m \u001b[0;31m# 2-2 시각\u001b[0m\u001b[0;34m\u001b[0m\u001b[0;34m\u001b[0m\u001b[0;34m\u001b[0m\u001b[0m\n\u001b[1;32m      2\u001b[0m \u001b[0;34m\u001b[0m\u001b[0m\n\u001b[0;32m----> 3\u001b[0;31m \u001b[0mh\u001b[0m \u001b[0;34m=\u001b[0m \u001b[0mint\u001b[0m\u001b[0;34m(\u001b[0m\u001b[0minput\u001b[0m\u001b[0;34m(\u001b[0m\u001b[0;34m)\u001b[0m\u001b[0;34m)\u001b[0m\u001b[0;34m\u001b[0m\u001b[0;34m\u001b[0m\u001b[0m\n\u001b[0m\u001b[1;32m      4\u001b[0m \u001b[0;34m\u001b[0m\u001b[0m\n\u001b[1;32m      5\u001b[0m \u001b[0mcount\u001b[0m \u001b[0;34m=\u001b[0m \u001b[0;36m0\u001b[0m\u001b[0;34m\u001b[0m\u001b[0;34m\u001b[0m\u001b[0m\n",
      "\u001b[0;31mTypeError\u001b[0m: 'str' object is not callable"
     ]
    }
   ],
   "source": [
    "# 2-2 시각\n",
    "\n",
    "h = int(input())\n",
    "\n",
    "count = 0\n",
    "\n",
    "for hour in range(h+1) :\n",
    "    for minute in range(60) :\n",
    "        for second in range(60) :\n",
    "            if '3' in str(hour) + str(minute) + str(second) :\n",
    "                count += 1\n",
    "print(count)\n"
   ]
  },
  {
   "cell_type": "code",
   "execution_count": 1,
   "metadata": {},
   "outputs": [
    {
     "name": "stdout",
     "output_type": "stream",
     "text": [
      "2\n"
     ]
    }
   ],
   "source": [
    "# 2-3 왕실의 나이트 \n",
    "input_data = input()\n",
    "\n",
    "# python 에서 ord('a') 를 하게 되면 유니코드 숫자를 반환하게 된다. \n",
    "col = int(ord(input_data[0]) - int(ord('a'))) + 1\n",
    "row = int(input_data[1])\n",
    "\n",
    "dx = [2, 2, -2, -2, -1, 1, -1, 1]\n",
    "dy = [-1, 1, -1, 1, 2, 2, -2, -2]\n",
    "\n",
    "count = 0\n",
    "for i in range(8) :\n",
    "    nx = row + dx[i]\n",
    "    ny = row + dy[i]\n",
    "    \n",
    "    if nx >= 1 and nx <= 8 and ny >=1 and ny <= 8 :\n",
    "        count += 1\n",
    "\n",
    "print(count)\n"
   ]
  },
  {
   "cell_type": "code",
   "execution_count": 2,
   "metadata": {},
   "outputs": [
    {
     "name": "stdout",
     "output_type": "stream",
     "text": [
      "2\n"
     ]
    }
   ],
   "source": [
    "input_data = input()\n",
    "\n",
    "col = int(ord(input_data[0]) - int(ord('a'))) + 1\n",
    "row = int(input_data[1])\n",
    "\n",
    "steps = [(2,-1), (2, 1), (-2, -1), (-2, 1), (-1, 2), (1, 2), (-1, -2), (1,-2)]\n",
    "\n",
    "for step in steps :\n",
    "    next_row = row + step[0]\n",
    "    next_col = col + step[1]\n",
    "    \n",
    "    if nx >= 1 and nx <= 8 and ny >=1 and ny <= 8 :\n",
    "        count += 1\n",
    "\n",
    "print(count)\n"
   ]
  },
  {
   "cell_type": "code",
   "execution_count": null,
   "metadata": {},
   "outputs": [],
   "source": []
  }
 ],
 "metadata": {
  "kernelspec": {
   "display_name": "Python 3.8.8 ('base')",
   "language": "python",
   "name": "python3"
  },
  "language_info": {
   "codemirror_mode": {
    "name": "ipython",
    "version": 3
   },
   "file_extension": ".py",
   "mimetype": "text/x-python",
   "name": "python",
   "nbconvert_exporter": "python",
   "pygments_lexer": "ipython3",
   "version": "3.8.8"
  },
  "orig_nbformat": 4,
  "vscode": {
   "interpreter": {
    "hash": "40d3a090f54c6569ab1632332b64b2c03c39dcf918b08424e98f38b5ae0af88f"
   }
  }
 },
 "nbformat": 4,
 "nbformat_minor": 2
}
