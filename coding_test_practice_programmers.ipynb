{
 "cells": [
  {
   "cell_type": "code",
   "execution_count": null,
   "metadata": {},
   "outputs": [],
   "source": [
    "4\n",
    "43\n",
    "431\n",
    "4311\n",
    "433\n",
    "4234"
   ]
  },
  {
   "cell_type": "code",
   "execution_count": 104,
   "metadata": {},
   "outputs": [],
   "source": [
    "board = [[0,0,0,0,0],[0,0,1,0,3],[0,2,5,0,1],[4,2,4,4,2],[3,5,1,3,1],[3,5,1,3,1]]\n",
    "moves = [1,5,3,5,1,2,1,4]"
   ]
  },
  {
   "cell_type": "code",
   "execution_count": 105,
   "metadata": {},
   "outputs": [
    {
     "data": {
      "text/plain": [
       "3"
      ]
     },
     "execution_count": 105,
     "metadata": {},
     "output_type": "execute_result"
    }
   ],
   "source": [
    "board[5][0]"
   ]
  },
  {
   "cell_type": "code",
   "execution_count": 106,
   "metadata": {},
   "outputs": [],
   "source": [
    "# test = [1]\n",
    "# while test:\n",
    "#     print('no')"
   ]
  },
  {
   "cell_type": "code",
   "execution_count": 107,
   "metadata": {},
   "outputs": [
    {
     "name": "stdout",
     "output_type": "stream",
     "text": [
      "4\n",
      "3\n",
      "1\n",
      "1\n",
      "3\n",
      "2\n",
      "3\n",
      "4\n"
     ]
    }
   ],
   "source": [
    "list = []\n",
    "for i in moves:\n",
    "    for row in range(len(board)):\n",
    "        # print(row, i-1)\n",
    "        if board[row][i-1] != 0:\n",
    "            print(board[row][i-1])\n",
    "            list.append(board[row][i-1])\n",
    "            board[row][i-1] = 0\n",
    "            break\n",
    "            "
   ]
  },
  {
   "cell_type": "code",
   "execution_count": 108,
   "metadata": {},
   "outputs": [
    {
     "data": {
      "text/plain": [
       "[4, 3, 1, 1, 3, 2, 3, 4]"
      ]
     },
     "execution_count": 108,
     "metadata": {},
     "output_type": "execute_result"
    }
   ],
   "source": [
    "list"
   ]
  },
  {
   "cell_type": "code",
   "execution_count": 109,
   "metadata": {},
   "outputs": [
    {
     "name": "stdout",
     "output_type": "stream",
     "text": [
      "[4, 3, 1, 1, 3, 2, 3, 4]\n",
      "[4, 3, 1, 1, 3, 2, 3, 4]\n",
      "[4, 3, 3, 2, 3, 4]\n",
      "[4, 3, 3, 2, 3, 4]\n",
      "[4, 2, 3, 4]\n",
      "[4, 2, 3, 4]\n",
      "[4, 2, 3, 4]\n",
      "[4, 2, 3, 4]\n",
      "4\n"
     ]
    }
   ],
   "source": [
    "start_pointer = 0\n",
    "\n",
    "length = 2\n",
    "\n",
    "answer = 0\n",
    "while start_pointer+1 < len(list):\n",
    "    if list[start_pointer] == list[start_pointer+1]:\n",
    "        del list[start_pointer:start_pointer+length]\n",
    "        answer += 2\n",
    "        start_pointer = 0 \n",
    "    else:\n",
    "        start_pointer += 1\n",
    "\n",
    "print(answer)\n",
    "# for start_pointer in range(len(list)):\n",
    "#     # print(start_pointer)\n",
    "#     if start_pointer+1 < len(list):\n",
    "#         if list[start_pointer] == list[start_pointer+1]:\n",
    "#             # print(start_pointer)\n",
    "#             # print(start_pointer+1)\n",
    "#             del list[start_pointer:start_pointer+length]\n",
    "            \n",
    "#             print(list)"
   ]
  },
  {
   "cell_type": "code",
   "execution_count": null,
   "metadata": {},
   "outputs": [],
   "source": [
    "list = []\n",
    "while moves:\n",
    "    for i in moves:\n",
    "        for row in range(len(board)):\n",
    "            # print(row, i-1)\n",
    "            if board[row][i-1] != 0:\n",
    "                print(board[row][i-1])\n",
    "                list.append(board[row][i-1])\n",
    "                board[row][i] = 0\n",
    "                "
   ]
  },
  {
   "cell_type": "code",
   "execution_count": null,
   "metadata": {},
   "outputs": [],
   "source": [
    "# 2019 카카오 코테 - 크레인 인형 뽑기\n",
    "def solution(board, moves):\n",
    "    list = []\n",
    "    for i in moves:\n",
    "        for row in range(len(board)):\n",
    "            if board[row][i-1] != 0:\n",
    "                list.append(board[row][i-1])\n",
    "                board[row][i-1] = 0\n",
    "                break\n",
    "    \n",
    "    start_pointer = 0\n",
    "    length = 2\n",
    "    answer = 0\n",
    "    \n",
    "    while start_pointer+1 < len(list):\n",
    "        if list[start_pointer] == list[start_pointer+1]:\n",
    "            del list[start_pointer:start_pointer+length]\n",
    "            answer += 2\n",
    "            start_pointer = 0\n",
    "        else:\n",
    "            start_pointer += 1\n",
    "            \n",
    "    return answer"
   ]
  },
  {
   "cell_type": "code",
   "execution_count": 55,
   "metadata": {},
   "outputs": [],
   "source": [
    "a = [1,1,1,1,1,2,2,2]"
   ]
  },
  {
   "cell_type": "code",
   "execution_count": 60,
   "metadata": {},
   "outputs": [],
   "source": [
    "test = set([i for i in a if a.count(i) >= 3])"
   ]
  },
  {
   "cell_type": "code",
   "execution_count": 61,
   "metadata": {},
   "outputs": [
    {
     "data": {
      "text/plain": [
       "{1, 2}"
      ]
     },
     "execution_count": 61,
     "metadata": {},
     "output_type": "execute_result"
    }
   ],
   "source": [
    "test"
   ]
  },
  {
   "cell_type": "code",
   "execution_count": 19,
   "metadata": {},
   "outputs": [],
   "source": [
    "b = set(a)"
   ]
  },
  {
   "cell_type": "code",
   "execution_count": 22,
   "metadata": {},
   "outputs": [
    {
     "name": "stdout",
     "output_type": "stream",
     "text": [
      "1\n",
      "2\n",
      "3\n",
      "4\n"
     ]
    }
   ],
   "source": [
    "for i in b:\n",
    "    print(i)"
   ]
  },
  {
   "cell_type": "code",
   "execution_count": 1,
   "metadata": {},
   "outputs": [],
   "source": [
    "id_list = [\"muzi\", \"frodo\", \"apeach\", \"neo\"]\n",
    "reports = [\"muzi frodo\",\"apeach frodo\",\"frodo neo\",\"muzi neo\",\"apeach muzi\"]\n",
    "k = 2"
   ]
  },
  {
   "cell_type": "code",
   "execution_count": 4,
   "metadata": {},
   "outputs": [
    {
     "data": {
      "text/plain": [
       "defaultdict(set, {})"
      ]
     },
     "execution_count": 4,
     "metadata": {},
     "output_type": "execute_result"
    }
   ],
   "source": [
    "from collections import defaultdict\n",
    "report = set(reports)\n",
    "defaultdict(set)"
   ]
  },
  {
   "cell_type": "code",
   "execution_count": 66,
   "metadata": {},
   "outputs": [],
   "source": [
    "def solution(id_list, reports, k):\n",
    "    stop = []\n",
    "    answer = [0] * len(id_list)\n",
    "    dicReports = {id: [] for id in id_list}\n",
    "    for i in set(reports):\n",
    "        report = i.split(' ')\n",
    "        stop.append(report[1])\n",
    "        dicReports[report[0]].append(report[1])\n",
    "    \n",
    "    stop = set([i for i in stop if stop.count(i) >= k]) # 이부분을 고려하지 않았다. \n",
    "    # print(stop)\n",
    "    for key, value in dicReports.items():\n",
    "        for s in stop:\n",
    "            if s in value:\n",
    "                answer[id_list.index(key)] += 1\n",
    "    return answer"
   ]
  },
  {
   "cell_type": "code",
   "execution_count": 67,
   "metadata": {},
   "outputs": [
    {
     "data": {
      "text/plain": [
       "[2, 1, 1, 0]"
      ]
     },
     "execution_count": 67,
     "metadata": {},
     "output_type": "execute_result"
    }
   ],
   "source": [
    "solution(id_list, reports, k)"
   ]
  },
  {
   "cell_type": "code",
   "execution_count": 29,
   "metadata": {},
   "outputs": [
    {
     "name": "stdout",
     "output_type": "stream",
     "text": [
      "['neo']\n"
     ]
    },
    {
     "ename": "IndexError",
     "evalue": "list index out of range",
     "output_type": "error",
     "traceback": [
      "\u001b[0;31m---------------------------------------------------------------------------\u001b[0m",
      "\u001b[0;31mIndexError\u001b[0m                                Traceback (most recent call last)",
      "\u001b[1;32m/Users/bagdaehui/coding-test/ready_for_coding_test/coding_test_practice_programmers.ipynb 셀 16\u001b[0m in \u001b[0;36m<cell line: 2>\u001b[0;34m()\u001b[0m\n\u001b[1;32m      <a href='vscode-notebook-cell:/Users/bagdaehui/coding-test/ready_for_coding_test/coding_test_practice_programmers.ipynb#ch0000025?line=2'>3</a>\u001b[0m report \u001b[39m=\u001b[39m report\u001b[39m.\u001b[39msplit(\u001b[39m'\u001b[39m\u001b[39m \u001b[39m\u001b[39m'\u001b[39m)\n\u001b[1;32m      <a href='vscode-notebook-cell:/Users/bagdaehui/coding-test/ready_for_coding_test/coding_test_practice_programmers.ipynb#ch0000025?line=3'>4</a>\u001b[0m \u001b[39mprint\u001b[39m(report)\n\u001b[0;32m----> <a href='vscode-notebook-cell:/Users/bagdaehui/coding-test/ready_for_coding_test/coding_test_practice_programmers.ipynb#ch0000025?line=4'>5</a>\u001b[0m dic_report[report[\u001b[39m1\u001b[39;49m]]\u001b[39m.\u001b[39mappend(report[\u001b[39m0\u001b[39m])\n",
      "\u001b[0;31mIndexError\u001b[0m: list index out of range"
     ]
    }
   ],
   "source": [
    "dic_report = {id:[] for id in id_list}\n",
    "for report in set(report):\n",
    "    report = report.split(' ')\n",
    "    print(report)\n",
    "    dic_report[report[1]].append(report[0])"
   ]
  },
  {
   "cell_type": "code",
   "execution_count": 17,
   "metadata": {},
   "outputs": [
    {
     "data": {
      "text/plain": [
       "{'muzi': ['apeach'],\n",
       " 'frodo': ['apeach', 'muzi'],\n",
       " 'apeach': [],\n",
       " 'neo': ['muzi', 'frodo']}"
      ]
     },
     "execution_count": 17,
     "metadata": {},
     "output_type": "execute_result"
    }
   ],
   "source": [
    "dic_report"
   ]
  },
  {
   "cell_type": "code",
   "execution_count": 11,
   "metadata": {},
   "outputs": [
    {
     "name": "stdout",
     "output_type": "stream",
     "text": [
      "muzi ['apeach']\n",
      "frodo ['apeach', 'muzi']\n",
      "apeach []\n",
      "neo ['muzi', 'frodo']\n"
     ]
    }
   ],
   "source": [
    "answer = [0]*len(id_list)\n",
    "for key, value in dic_report.items():\n",
    "    if len(value) == k:\n",
    "        for v in value:\n",
    "            answer[id_list.index(v)] += 1\n",
    "    print(key, value)"
   ]
  },
  {
   "cell_type": "code",
   "execution_count": null,
   "metadata": {},
   "outputs": [],
   "source": []
  },
  {
   "cell_type": "code",
   "execution_count": 12,
   "metadata": {},
   "outputs": [
    {
     "data": {
      "text/plain": [
       "[2, 1, 1, 0]"
      ]
     },
     "execution_count": 12,
     "metadata": {},
     "output_type": "execute_result"
    }
   ],
   "source": [
    "answer"
   ]
  },
  {
   "cell_type": "code",
   "execution_count": 53,
   "metadata": {},
   "outputs": [
    {
     "data": {
      "text/plain": [
       "['apeach']"
      ]
     },
     "execution_count": 53,
     "metadata": {},
     "output_type": "execute_result"
    }
   ],
   "source": [
    "list"
   ]
  },
  {
   "cell_type": "code",
   "execution_count": null,
   "metadata": {},
   "outputs": [],
   "source": []
  },
  {
   "cell_type": "code",
   "execution_count": 37,
   "metadata": {},
   "outputs": [],
   "source": [
    "dartResult = '1D2S#10S'"
   ]
  },
  {
   "cell_type": "code",
   "execution_count": 38,
   "metadata": {},
   "outputs": [],
   "source": [
    "import re"
   ]
  },
  {
   "cell_type": "code",
   "execution_count": 54,
   "metadata": {},
   "outputs": [
    {
     "name": "stdout",
     "output_type": "stream",
     "text": [
      "[('1', 'D', ''), ('2', 'S', '#'), ('10', 'S', '*')]\n",
      "[1, -4, 20]\n",
      "17\n"
     ]
    }
   ],
   "source": [
    "bonus = {'S': 1, 'D': 2, 'T': 3}\n",
    "option = {'':1, '#':-1, '*':2}\n",
    "\n",
    "p = re.compile('(\\d+)([SDT]+)([*#]?)')\n",
    "\n",
    "dart = p.findall(dartResult)\n",
    "print(dart)\n",
    "for i in range(len(dart)):\n",
    "    if dart[i][2] == '*' and i > 0:\n",
    "        dart[i-1] *= 2\n",
    "    dart[i] = int(dart[i][0]) ** bonus[dart[i][1]] * option[dart[i][2]]\n",
    "print(dart)\n",
    "answer = sum(dart)\n",
    "print(answer)"
   ]
  },
  {
   "cell_type": "code",
   "execution_count": null,
   "metadata": {},
   "outputs": [],
   "source": [
    "# 2018 kakao blind 다트게임\n",
    "def solution(dartResult):\n",
    "    answer = 0\n",
    "    return answer "
   ]
  }
 ],
 "metadata": {
  "kernelspec": {
   "display_name": "Python 3.10.5 64-bit",
   "language": "python",
   "name": "python3"
  },
  "language_info": {
   "codemirror_mode": {
    "name": "ipython",
    "version": 3
   },
   "file_extension": ".py",
   "mimetype": "text/x-python",
   "name": "python",
   "nbconvert_exporter": "python",
   "pygments_lexer": "ipython3",
   "version": "3.10.5"
  },
  "orig_nbformat": 4,
  "vscode": {
   "interpreter": {
    "hash": "aee8b7b246df8f9039afb4144a1f6fd8d2ca17a180786b69acc140d282b71a49"
   }
  }
 },
 "nbformat": 4,
 "nbformat_minor": 2
}
