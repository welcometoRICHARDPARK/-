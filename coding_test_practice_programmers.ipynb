{
 "cells": [
  {
   "cell_type": "code",
   "execution_count": null,
   "metadata": {},
   "outputs": [],
   "source": [
    "4\n",
    "43\n",
    "431\n",
    "4311\n",
    "433\n",
    "4234"
   ]
  },
  {
   "cell_type": "code",
   "execution_count": 104,
   "metadata": {},
   "outputs": [],
   "source": [
    "board = [[0,0,0,0,0],[0,0,1,0,3],[0,2,5,0,1],[4,2,4,4,2],[3,5,1,3,1],[3,5,1,3,1]]\n",
    "moves = [1,5,3,5,1,2,1,4]"
   ]
  },
  {
   "cell_type": "code",
   "execution_count": 105,
   "metadata": {},
   "outputs": [
    {
     "data": {
      "text/plain": [
       "3"
      ]
     },
     "execution_count": 105,
     "metadata": {},
     "output_type": "execute_result"
    }
   ],
   "source": [
    "board[5][0]"
   ]
  },
  {
   "cell_type": "code",
   "execution_count": 106,
   "metadata": {},
   "outputs": [],
   "source": [
    "# test = [1]\n",
    "# while test:\n",
    "#     print('no')"
   ]
  },
  {
   "cell_type": "code",
   "execution_count": 107,
   "metadata": {},
   "outputs": [
    {
     "name": "stdout",
     "output_type": "stream",
     "text": [
      "4\n",
      "3\n",
      "1\n",
      "1\n",
      "3\n",
      "2\n",
      "3\n",
      "4\n"
     ]
    }
   ],
   "source": [
    "list = []\n",
    "for i in moves:\n",
    "    for row in range(len(board)):\n",
    "        # print(row, i-1)\n",
    "        if board[row][i-1] != 0:\n",
    "            print(board[row][i-1])\n",
    "            list.append(board[row][i-1])\n",
    "            board[row][i-1] = 0\n",
    "            break\n",
    "            "
   ]
  },
  {
   "cell_type": "code",
   "execution_count": 108,
   "metadata": {},
   "outputs": [
    {
     "data": {
      "text/plain": [
       "[4, 3, 1, 1, 3, 2, 3, 4]"
      ]
     },
     "execution_count": 108,
     "metadata": {},
     "output_type": "execute_result"
    }
   ],
   "source": [
    "list"
   ]
  },
  {
   "cell_type": "code",
   "execution_count": 109,
   "metadata": {},
   "outputs": [
    {
     "name": "stdout",
     "output_type": "stream",
     "text": [
      "[4, 3, 1, 1, 3, 2, 3, 4]\n",
      "[4, 3, 1, 1, 3, 2, 3, 4]\n",
      "[4, 3, 3, 2, 3, 4]\n",
      "[4, 3, 3, 2, 3, 4]\n",
      "[4, 2, 3, 4]\n",
      "[4, 2, 3, 4]\n",
      "[4, 2, 3, 4]\n",
      "[4, 2, 3, 4]\n",
      "4\n"
     ]
    }
   ],
   "source": [
    "start_pointer = 0\n",
    "\n",
    "length = 2\n",
    "\n",
    "answer = 0\n",
    "while start_pointer+1 < len(list):\n",
    "    if list[start_pointer] == list[start_pointer+1]:\n",
    "        del list[start_pointer:start_pointer+length]\n",
    "        answer += 2\n",
    "        start_pointer = 0 \n",
    "    else:\n",
    "        start_pointer += 1\n",
    "\n",
    "print(answer)\n",
    "# for start_pointer in range(len(list)):\n",
    "#     # print(start_pointer)\n",
    "#     if start_pointer+1 < len(list):\n",
    "#         if list[start_pointer] == list[start_pointer+1]:\n",
    "#             # print(start_pointer)\n",
    "#             # print(start_pointer+1)\n",
    "#             del list[start_pointer:start_pointer+length]\n",
    "            \n",
    "#             print(list)"
   ]
  },
  {
   "cell_type": "code",
   "execution_count": null,
   "metadata": {},
   "outputs": [],
   "source": [
    "list = []\n",
    "while moves:\n",
    "    for i in moves:\n",
    "        for row in range(len(board)):\n",
    "            # print(row, i-1)\n",
    "            if board[row][i-1] != 0:\n",
    "                print(board[row][i-1])\n",
    "                list.append(board[row][i-1])\n",
    "                board[row][i] = 0\n",
    "                "
   ]
  },
  {
   "cell_type": "code",
   "execution_count": null,
   "metadata": {},
   "outputs": [],
   "source": [
    "# 2019 카카오 코테 - 크레인 인형 뽑기\n",
    "def solution(board, moves):\n",
    "    list = []\n",
    "    for i in moves:\n",
    "        for row in range(len(board)):\n",
    "            if board[row][i-1] != 0:\n",
    "                list.append(board[row][i-1])\n",
    "                board[row][i-1] = 0\n",
    "                break\n",
    "    \n",
    "    start_pointer = 0\n",
    "    length = 2\n",
    "    answer = 0\n",
    "    \n",
    "    while start_pointer+1 < len(list):\n",
    "        if list[start_pointer] == list[start_pointer+1]:\n",
    "            del list[start_pointer:start_pointer+length]\n",
    "            answer += 2\n",
    "            start_pointer = 0\n",
    "        else:\n",
    "            start_pointer += 1\n",
    "            \n",
    "    return answer"
   ]
  },
  {
   "cell_type": "code",
   "execution_count": null,
   "metadata": {},
   "outputs": [],
   "source": []
  },
  {
   "cell_type": "code",
   "execution_count": 2,
   "metadata": {},
   "outputs": [
    {
     "name": "stdout",
     "output_type": "stream",
     "text": [
      "yes\n"
     ]
    }
   ],
   "source": [
    "# 숫자열과 영단어\n",
    "a = 'abcdefgh'\n",
    "\n",
    "if 'bcd' in a:\n",
    "    print('yes')"
   ]
  },
  {
   "cell_type": "code",
   "execution_count": 37,
   "metadata": {},
   "outputs": [],
   "source": [
    "s = '2three45sixseven'"
   ]
  },
  {
   "cell_type": "code",
   "execution_count": 38,
   "metadata": {},
   "outputs": [],
   "source": [
    "dic = {\n",
    "    'zero': 0,\n",
    "    'one': 1,\n",
    "    'two': 2,\n",
    "    'three': 3,\n",
    "    'four': 4,\n",
    "    'five': 5,\n",
    "    'six': 6,\n",
    "    'seven': 7,\n",
    "    'eight': 8,\n",
    "    'nine': 9\n",
    "}"
   ]
  },
  {
   "cell_type": "code",
   "execution_count": 39,
   "metadata": {},
   "outputs": [
    {
     "data": {
      "text/plain": [
       "10"
      ]
     },
     "execution_count": 39,
     "metadata": {},
     "output_type": "execute_result"
    }
   ],
   "source": [
    "len(dic)"
   ]
  },
  {
   "cell_type": "code",
   "execution_count": 40,
   "metadata": {},
   "outputs": [
    {
     "name": "stdout",
     "output_type": "stream",
     "text": [
      "zero\n",
      "0\n",
      "one\n",
      "1\n",
      "two\n",
      "2\n",
      "three\n",
      "3\n",
      "four\n",
      "4\n",
      "five\n",
      "5\n",
      "six\n",
      "6\n",
      "seven\n",
      "7\n",
      "eight\n",
      "8\n",
      "nine\n",
      "9\n"
     ]
    }
   ],
   "source": [
    "for i in dic:\n",
    "    print(i)\n",
    "    print(str(dic[i]))"
   ]
  },
  {
   "cell_type": "code",
   "execution_count": 42,
   "metadata": {},
   "outputs": [
    {
     "name": "stdout",
     "output_type": "stream",
     "text": [
      "234567\n"
     ]
    }
   ],
   "source": [
    "for i in dic :\n",
    "    if i in s:\n",
    "        s = s.replace(i, str(dic[i]))\n",
    "print(s)"
   ]
  },
  {
   "cell_type": "code",
   "execution_count": 45,
   "metadata": {},
   "outputs": [],
   "source": [
    "def solution(s):\n",
    "    dic = {\n",
    "        'zero': 0,\n",
    "        'one': 1,\n",
    "        'two': 2,\n",
    "        'three': 3,\n",
    "        'four': 4,\n",
    "        'five': 5,\n",
    "        'six': 6,\n",
    "        'seven': 7,\n",
    "        'eight': 8,\n",
    "        'nine': 9\n",
    "    }\n",
    "    \n",
    "    for i in dic:\n",
    "        if i in s:\n",
    "            s = s.replace(i, str(dic[i]))\n",
    "    answer = int(s)\n",
    "    return answer"
   ]
  },
  {
   "cell_type": "code",
   "execution_count": 46,
   "metadata": {},
   "outputs": [
    {
     "data": {
      "text/plain": [
       "234567"
      ]
     },
     "execution_count": 46,
     "metadata": {},
     "output_type": "execute_result"
    }
   ],
   "source": [
    "solution(s)"
   ]
  },
  {
   "cell_type": "code",
   "execution_count": 47,
   "metadata": {},
   "outputs": [
    {
     "name": "stdout",
     "output_type": "stream",
     "text": [
      "zero 0\n",
      "one 1\n",
      "two 2\n",
      "three 3\n",
      "four 4\n",
      "five 5\n",
      "six 6\n",
      "seven 7\n",
      "eight 8\n",
      "nine 9\n"
     ]
    }
   ],
   "source": [
    "for key, value in dic.items():\n",
    "    print(key, value)"
   ]
  },
  {
   "cell_type": "code",
   "execution_count": null,
   "metadata": {},
   "outputs": [],
   "source": []
  }
 ],
 "metadata": {
  "kernelspec": {
   "display_name": "Python 3.10.5 64-bit",
   "language": "python",
   "name": "python3"
  },
  "language_info": {
   "codemirror_mode": {
    "name": "ipython",
    "version": 3
   },
   "file_extension": ".py",
   "mimetype": "text/x-python",
   "name": "python",
   "nbconvert_exporter": "python",
   "pygments_lexer": "ipython3",
   "version": "3.10.5"
  },
  "orig_nbformat": 4,
  "vscode": {
   "interpreter": {
    "hash": "aee8b7b246df8f9039afb4144a1f6fd8d2ca17a180786b69acc140d282b71a49"
   }
  }
 },
 "nbformat": 4,
 "nbformat_minor": 2
}
