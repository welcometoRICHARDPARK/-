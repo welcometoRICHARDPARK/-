{
 "cells": [
  {
   "cell_type": "code",
   "execution_count": null,
   "metadata": {},
   "outputs": [],
   "source": [
    "4\n",
    "43\n",
    "431\n",
    "4311\n",
    "433\n",
    "4234"
   ]
  },
  {
   "cell_type": "code",
   "execution_count": 104,
   "metadata": {},
   "outputs": [],
   "source": [
    "board = [[0,0,0,0,0],[0,0,1,0,3],[0,2,5,0,1],[4,2,4,4,2],[3,5,1,3,1],[3,5,1,3,1]]\n",
    "moves = [1,5,3,5,1,2,1,4]"
   ]
  },
  {
   "cell_type": "code",
   "execution_count": 105,
   "metadata": {},
   "outputs": [
    {
     "data": {
      "text/plain": [
       "3"
      ]
     },
     "execution_count": 105,
     "metadata": {},
     "output_type": "execute_result"
    }
   ],
   "source": [
    "board[5][0]"
   ]
  },
  {
   "cell_type": "code",
   "execution_count": 106,
   "metadata": {},
   "outputs": [],
   "source": [
    "# test = [1]\n",
    "# while test:\n",
    "#     print('no')"
   ]
  },
  {
   "cell_type": "code",
   "execution_count": 107,
   "metadata": {},
   "outputs": [
    {
     "name": "stdout",
     "output_type": "stream",
     "text": [
      "4\n",
      "3\n",
      "1\n",
      "1\n",
      "3\n",
      "2\n",
      "3\n",
      "4\n"
     ]
    }
   ],
   "source": [
    "list = []\n",
    "for i in moves:\n",
    "    for row in range(len(board)):\n",
    "        # print(row, i-1)\n",
    "        if board[row][i-1] != 0:\n",
    "            print(board[row][i-1])\n",
    "            list.append(board[row][i-1])\n",
    "            board[row][i-1] = 0\n",
    "            break\n",
    "            "
   ]
  },
  {
   "cell_type": "code",
   "execution_count": 108,
   "metadata": {},
   "outputs": [
    {
     "data": {
      "text/plain": [
       "[4, 3, 1, 1, 3, 2, 3, 4]"
      ]
     },
     "execution_count": 108,
     "metadata": {},
     "output_type": "execute_result"
    }
   ],
   "source": [
    "list"
   ]
  },
  {
   "cell_type": "code",
   "execution_count": 109,
   "metadata": {},
   "outputs": [
    {
     "name": "stdout",
     "output_type": "stream",
     "text": [
      "[4, 3, 1, 1, 3, 2, 3, 4]\n",
      "[4, 3, 1, 1, 3, 2, 3, 4]\n",
      "[4, 3, 3, 2, 3, 4]\n",
      "[4, 3, 3, 2, 3, 4]\n",
      "[4, 2, 3, 4]\n",
      "[4, 2, 3, 4]\n",
      "[4, 2, 3, 4]\n",
      "[4, 2, 3, 4]\n",
      "4\n"
     ]
    }
   ],
   "source": [
    "start_pointer = 0\n",
    "\n",
    "length = 2\n",
    "\n",
    "answer = 0\n",
    "while start_pointer+1 < len(list):\n",
    "    if list[start_pointer] == list[start_pointer+1]:\n",
    "        del list[start_pointer:start_pointer+length]\n",
    "        answer += 2\n",
    "        start_pointer = 0 \n",
    "    else:\n",
    "        start_pointer += 1\n",
    "\n",
    "print(answer)\n",
    "# for start_pointer in range(len(list)):\n",
    "#     # print(start_pointer)\n",
    "#     if start_pointer+1 < len(list):\n",
    "#         if list[start_pointer] == list[start_pointer+1]:\n",
    "#             # print(start_pointer)\n",
    "#             # print(start_pointer+1)\n",
    "#             del list[start_pointer:start_pointer+length]\n",
    "            \n",
    "#             print(list)"
   ]
  },
  {
   "cell_type": "code",
   "execution_count": null,
   "metadata": {},
   "outputs": [],
   "source": [
    "list = []\n",
    "while moves:\n",
    "    for i in moves:\n",
    "        for row in range(len(board)):\n",
    "            # print(row, i-1)\n",
    "            if board[row][i-1] != 0:\n",
    "                print(board[row][i-1])\n",
    "                list.append(board[row][i-1])\n",
    "                board[row][i] = 0\n",
    "                "
   ]
  },
  {
   "cell_type": "code",
   "execution_count": null,
   "metadata": {},
   "outputs": [],
   "source": [
    "# 2019 카카오 코테 - 크레인 인형 뽑기\n",
    "def solution(board, moves):\n",
    "    list = []\n",
    "    for i in moves:\n",
    "        for row in range(len(board)):\n",
    "            if board[row][i-1] != 0:\n",
    "                list.append(board[row][i-1])\n",
    "                board[row][i-1] = 0\n",
    "                break\n",
    "    \n",
    "    start_pointer = 0\n",
    "    length = 2\n",
    "    answer = 0\n",
    "    \n",
    "    while start_pointer+1 < len(list):\n",
    "        if list[start_pointer] == list[start_pointer+1]:\n",
    "            del list[start_pointer:start_pointer+length]\n",
    "            answer += 2\n",
    "            start_pointer = 0\n",
    "        else:\n",
    "            start_pointer += 1\n",
    "            \n",
    "    return answer"
   ]
  },
  {
   "cell_type": "code",
   "execution_count": 55,
   "metadata": {},
   "outputs": [],
   "source": [
    "a = [1,1,1,1,1,2,2,2]"
   ]
  },
  {
   "cell_type": "code",
   "execution_count": 60,
   "metadata": {},
   "outputs": [],
   "source": [
    "test = set([i for i in a if a.count(i) >= 3])"
   ]
  },
  {
   "cell_type": "code",
   "execution_count": 61,
   "metadata": {},
   "outputs": [
    {
     "data": {
      "text/plain": [
       "{1, 2}"
      ]
     },
     "execution_count": 61,
     "metadata": {},
     "output_type": "execute_result"
    }
   ],
   "source": [
    "test"
   ]
  },
  {
   "cell_type": "code",
   "execution_count": 19,
   "metadata": {},
   "outputs": [],
   "source": [
    "b = set(a)"
   ]
  },
  {
   "cell_type": "code",
   "execution_count": 22,
   "metadata": {},
   "outputs": [
    {
     "name": "stdout",
     "output_type": "stream",
     "text": [
      "1\n",
      "2\n",
      "3\n",
      "4\n"
     ]
    }
   ],
   "source": [
    "for i in b:\n",
    "    print(i)"
   ]
  },
  {
   "cell_type": "code",
   "execution_count": 1,
   "metadata": {},
   "outputs": [],
   "source": [
    "id_list = [\"muzi\", \"frodo\", \"apeach\", \"neo\"]\n",
    "reports = [\"muzi frodo\",\"apeach frodo\",\"frodo neo\",\"muzi neo\",\"apeach muzi\"]\n",
    "k = 2"
   ]
  },
  {
   "cell_type": "code",
   "execution_count": 4,
   "metadata": {},
   "outputs": [
    {
     "data": {
      "text/plain": [
       "defaultdict(set, {})"
      ]
     },
     "execution_count": 4,
     "metadata": {},
     "output_type": "execute_result"
    }
   ],
   "source": [
    "from collections import defaultdict\n",
    "report = set(reports)\n",
    "defaultdict(set)"
   ]
  },
  {
   "cell_type": "code",
   "execution_count": 66,
   "metadata": {},
   "outputs": [],
   "source": [
    "def solution(id_list, reports, k):\n",
    "    stop = []\n",
    "    answer = [0] * len(id_list)\n",
    "    dicReports = {id: [] for id in id_list}\n",
    "    for i in set(reports):\n",
    "        report = i.split(' ')\n",
    "        stop.append(report[1])\n",
    "        dicReports[report[0]].append(report[1])\n",
    "    \n",
    "    stop = set([i for i in stop if stop.count(i) >= k]) # 이부분을 고려하지 않았다. \n",
    "    # print(stop)\n",
    "    for key, value in dicReports.items():\n",
    "        for s in stop:\n",
    "            if s in value:\n",
    "                answer[id_list.index(key)] += 1\n",
    "    return answer"
   ]
  },
  {
   "cell_type": "code",
   "execution_count": 67,
   "metadata": {},
   "outputs": [
    {
     "data": {
      "text/plain": [
       "[2, 1, 1, 0]"
      ]
     },
     "execution_count": 67,
     "metadata": {},
     "output_type": "execute_result"
    }
   ],
   "source": [
    "solution(id_list, reports, k)"
   ]
  },
  {
   "cell_type": "code",
   "execution_count": 29,
   "metadata": {},
   "outputs": [
    {
     "name": "stdout",
     "output_type": "stream",
     "text": [
      "['neo']\n"
     ]
    },
    {
     "ename": "IndexError",
     "evalue": "list index out of range",
     "output_type": "error",
     "traceback": [
      "\u001b[0;31m---------------------------------------------------------------------------\u001b[0m",
      "\u001b[0;31mIndexError\u001b[0m                                Traceback (most recent call last)",
      "\u001b[1;32m/Users/bagdaehui/coding-test/ready_for_coding_test/coding_test_practice_programmers.ipynb 셀 16\u001b[0m in \u001b[0;36m<cell line: 2>\u001b[0;34m()\u001b[0m\n\u001b[1;32m      <a href='vscode-notebook-cell:/Users/bagdaehui/coding-test/ready_for_coding_test/coding_test_practice_programmers.ipynb#ch0000025?line=2'>3</a>\u001b[0m report \u001b[39m=\u001b[39m report\u001b[39m.\u001b[39msplit(\u001b[39m'\u001b[39m\u001b[39m \u001b[39m\u001b[39m'\u001b[39m)\n\u001b[1;32m      <a href='vscode-notebook-cell:/Users/bagdaehui/coding-test/ready_for_coding_test/coding_test_practice_programmers.ipynb#ch0000025?line=3'>4</a>\u001b[0m \u001b[39mprint\u001b[39m(report)\n\u001b[0;32m----> <a href='vscode-notebook-cell:/Users/bagdaehui/coding-test/ready_for_coding_test/coding_test_practice_programmers.ipynb#ch0000025?line=4'>5</a>\u001b[0m dic_report[report[\u001b[39m1\u001b[39;49m]]\u001b[39m.\u001b[39mappend(report[\u001b[39m0\u001b[39m])\n",
      "\u001b[0;31mIndexError\u001b[0m: list index out of range"
     ]
    }
   ],
   "source": [
    "dic_report = {id:[] for id in id_list}\n",
    "for report in set(report):\n",
    "    report = report.split(' ')\n",
    "    print(report)\n",
    "    dic_report[report[1]].append(report[0])"
   ]
  },
  {
   "cell_type": "code",
   "execution_count": 17,
   "metadata": {},
   "outputs": [
    {
     "data": {
      "text/plain": [
       "{'muzi': ['apeach'],\n",
       " 'frodo': ['apeach', 'muzi'],\n",
       " 'apeach': [],\n",
       " 'neo': ['muzi', 'frodo']}"
      ]
     },
     "execution_count": 17,
     "metadata": {},
     "output_type": "execute_result"
    }
   ],
   "source": [
    "dic_report"
   ]
  },
  {
   "cell_type": "code",
   "execution_count": 11,
   "metadata": {},
   "outputs": [
    {
     "name": "stdout",
     "output_type": "stream",
     "text": [
      "muzi ['apeach']\n",
      "frodo ['apeach', 'muzi']\n",
      "apeach []\n",
      "neo ['muzi', 'frodo']\n"
     ]
    }
   ],
   "source": [
    "answer = [0]*len(id_list)\n",
    "for key, value in dic_report.items():\n",
    "    if len(value) == k:\n",
    "        for v in value:\n",
    "            answer[id_list.index(v)] += 1\n",
    "    print(key, value)"
   ]
  },
  {
   "cell_type": "code",
   "execution_count": null,
   "metadata": {},
   "outputs": [],
   "source": []
  },
  {
   "cell_type": "code",
   "execution_count": 12,
   "metadata": {},
   "outputs": [
    {
     "data": {
      "text/plain": [
       "[2, 1, 1, 0]"
      ]
     },
     "execution_count": 12,
     "metadata": {},
     "output_type": "execute_result"
    }
   ],
   "source": [
    "answer"
   ]
  },
  {
   "cell_type": "code",
   "execution_count": 53,
   "metadata": {},
   "outputs": [
    {
     "data": {
      "text/plain": [
       "['apeach']"
      ]
     },
     "execution_count": 53,
     "metadata": {},
     "output_type": "execute_result"
    }
   ],
   "source": [
    "list"
   ]
  },
  {
   "cell_type": "code",
   "execution_count": null,
   "metadata": {},
   "outputs": [],
   "source": []
  },
  {
   "cell_type": "code",
   "execution_count": 37,
   "metadata": {},
   "outputs": [],
   "source": [
    "dartResult = '1D2S#10S'"
   ]
  },
  {
   "cell_type": "code",
   "execution_count": 38,
   "metadata": {},
   "outputs": [],
   "source": [
    "import re"
   ]
  },
  {
   "cell_type": "code",
   "execution_count": 54,
   "metadata": {},
   "outputs": [
    {
     "name": "stdout",
     "output_type": "stream",
     "text": [
      "[('1', 'D', ''), ('2', 'S', '#'), ('10', 'S', '*')]\n",
      "[1, -4, 20]\n",
      "17\n"
     ]
    }
   ],
   "source": [
    "bonus = {'S': 1, 'D': 2, 'T': 3}\n",
    "option = {'':1, '#':-1, '*':2}\n",
    "\n",
    "p = re.compile('(\\d+)([SDT]+)([*#]?)')\n",
    "\n",
    "dart = p.findall(dartResult)\n",
    "print(dart)\n",
    "for i in range(len(dart)):\n",
    "    if dart[i][2] == '*' and i > 0:\n",
    "        dart[i-1] *= 2\n",
    "    dart[i] = int(dart[i][0]) ** bonus[dart[i][1]] * option[dart[i][2]]\n",
    "print(dart)\n",
    "answer = sum(dart)\n",
    "print(answer)"
   ]
  },
  {
   "cell_type": "code",
   "execution_count": null,
   "metadata": {},
   "outputs": [],
   "source": [
    "# 2018 kakao blind 다트게임\n",
    "def solution(dartResult):\n",
    "    answer = 0\n",
    "    return answer "
   ]
  },
  {
   "cell_type": "code",
   "execution_count": null,
   "metadata": {},
   "outputs": [],
   "source": [
    "# 2019 kakao - 실패율\n",
    "def sort_dict(dictionary):\n",
    "    return sorted(dictionary.items(), key=lambda x: x[1], reverse=True)\n",
    "\n",
    "def solution(N, stages):\n",
    "    answer = []\n",
    "    failur_rate = {}\n",
    "    subtract_num = 0\n",
    "    count = 0\n",
    "    \n",
    "    for idx, i in enumerate(range(N)):\n",
    "        if i+1 in stages:\n",
    "            count += stages.count(i+1)\n",
    "            failur_rate[i+1] = (count / (len(stages) - subtract_num))\n",
    "            subtract_num += stages.count(i+1)\n",
    "            count = 0\n",
    "        else:\n",
    "            failur_rate[i+1] = 0\n",
    "    \n",
    "    for i in sort_dict(failur_rate):\n",
    "        answer.append(i[0])\n",
    "        \n",
    "    return answer"
   ]
  },
  {
   "cell_type": "code",
   "execution_count": null,
   "metadata": {},
   "outputs": [],
   "source": [
    "# 2020 kakao - 키패드 \n",
    "\n",
    "def sort_dict(dictionary):\n",
    "    return sorted(dictionary.items(), key=lambda x: x[1], reverse=True)\n",
    "\n",
    "def solution(N, stages):\n",
    "    answer = []\n",
    "    failur_rate = {}\n",
    "    subtract_num = 0\n",
    "    count = 0\n",
    "    \n",
    "    for idx, i in enumerate(range(N)):\n",
    "        if i+1 in stages:\n",
    "            count += stages.count(i+1)\n",
    "            failur_rate[i+1] = (count / (len(stages) - subtract_num))\n",
    "            subtract_num += stages.count(i+1)\n",
    "            count = 0\n",
    "        else:\n",
    "            failur_rate[i+1] = 0\n",
    "    \n",
    "    for i in sort_dict(failur_rate):\n",
    "        answer.append(i[0])\n",
    "        \n",
    "    return answer"
   ]
  },
  {
   "cell_type": "code",
   "execution_count": null,
   "metadata": {},
   "outputs": [],
   "source": [
    "# 2020 kakao - 문자열 압축\n",
    "\n",
    "def solution(s):\n",
    "    answer = len(s)\n",
    "    compacted_sentences = []\n",
    "    sentence = ''\n",
    "    start_point = 0\n",
    "    count = 0\n",
    "    \n",
    "    for i in range(1, (len(s)//2)+1):\n",
    "        while start_point < len(s):\n",
    "            if s[start_point:start_point+(i)] == s[start_point+(i):start_point+((i)*2)]:\n",
    "                count += 1 \n",
    "                start_point += i\n",
    "                \n",
    "            else:\n",
    "                if count == 0:\n",
    "                    sentence += s[start_point:start_point+i]\n",
    "                    start_point += i\n",
    "                    \n",
    "                else:\n",
    "                    sentence += str(count+1) + s[start_point:start_point+i]\n",
    "                    start_point += i\n",
    "                    count = 0\n",
    "        start_point = 0\n",
    "        \n",
    "        answer = min(answer, len(sentence))\n",
    "    \n",
    "        sentence = ''\n",
    "    return answer"
   ]
  },
  {
   "cell_type": "code",
   "execution_count": null,
   "metadata": {},
   "outputs": [],
   "source": [
    "# 프로그래머스 연습문제 최대 최소값\n",
    "def solution(s):\n",
    "    int_list = list(map(int,s.split()))\n",
    "    answer = str(min(int_list)) + ' ' +str(max(int_list))\n",
    "    return answer"
   ]
  },
  {
   "cell_type": "code",
   "execution_count": 1,
   "metadata": {},
   "outputs": [],
   "source": [
    "N = 5 \n",
    "number = 12"
   ]
  },
  {
   "cell_type": "code",
   "execution_count": 132,
   "metadata": {},
   "outputs": [],
   "source": [
    "# 프로그래머스 소문자 대문자 변환\n",
    "def capitalize(string):\n",
    "    answer = \"\"\n",
    "    list = string.split(\" \")\n",
    "    print(list)\n",
    "    for i in list:\n",
    "        answer += i.capitalize() + \" \"\n",
    "    return answer[:-1]"
   ]
  },
  {
   "cell_type": "code",
   "execution_count": 133,
   "metadata": {},
   "outputs": [],
   "source": [
    "string = 'hello world'"
   ]
  },
  {
   "cell_type": "code",
   "execution_count": 134,
   "metadata": {},
   "outputs": [
    {
     "name": "stdout",
     "output_type": "stream",
     "text": [
      "['hello', 'world']\n"
     ]
    },
    {
     "data": {
      "text/plain": [
       "'Hello World'"
      ]
     },
     "execution_count": 134,
     "metadata": {},
     "output_type": "execute_result"
    }
   ],
   "source": [
    "capitalize(string)"
   ]
  },
  {
   "cell_type": "code",
   "execution_count": 51,
   "metadata": {},
   "outputs": [],
   "source": [
    "# 프로그래머스 이진 변환 반복하기\n",
    "test = '110010101001'"
   ]
  },
  {
   "cell_type": "code",
   "execution_count": 99,
   "metadata": {},
   "outputs": [
    {
     "data": {
      "text/plain": [
       "6"
      ]
     },
     "execution_count": 99,
     "metadata": {},
     "output_type": "execute_result"
    }
   ],
   "source": [
    "test_1 = [1,2,3]\n",
    "sum(test_1)"
   ]
  },
  {
   "cell_type": "code",
   "execution_count": 52,
   "metadata": {},
   "outputs": [
    {
     "data": {
      "text/plain": [
       "2"
      ]
     },
     "execution_count": 52,
     "metadata": {},
     "output_type": "execute_result"
    }
   ],
   "source": [
    "test.index('0')"
   ]
  },
  {
   "cell_type": "code",
   "execution_count": 136,
   "metadata": {},
   "outputs": [],
   "source": [
    "# function that count 0 from string\n",
    "final_erase_zero_count = []\n",
    "final_step_count = []\n",
    "# answer = []\n",
    "def count_zero(string):\n",
    "    # print('______')\n",
    "    \n",
    "    erase_count = 0\n",
    "    erased_zero_count = 0\n",
    "    if string == '1':\n",
    "        answer = []\n",
    "        # print(sum(final_step_count), sum(final_erase_zero_count))\n",
    "        answer.append(sum(final_step_count))\n",
    "        answer.append(sum(final_erase_zero_count))\n",
    "        # print('answer', answer)\n",
    "        return answer\n",
    "    \n",
    "        \n",
    "    \n",
    "    for idx, i in enumerate(string):\n",
    "        if i == '0':\n",
    "            # print(idx)\n",
    "            erase_count += 1\n",
    "        \n",
    "    # print('erase_count >>',erase_count)\n",
    "    final_erase_zero_count.append(erase_count)\n",
    "    # final_erase_zero_count += erase_count\n",
    "    string = string.replace('0', '')\n",
    "    # print('string>>>',string)\n",
    "    decimal = len(string)\n",
    "    binary = ''\n",
    "    while decimal > 0:\n",
    "        binary += str(decimal % 2)\n",
    "        decimal = decimal // 2\n",
    "        string = binary[::-1]\n",
    "    # print('이진수 변환 후 >>', string)\n",
    "    erased_zero_count += 1\n",
    "    # print('erased_zero_count >>', erased_zero_count)\n",
    "    final_step_count.append(erased_zero_count)\n",
    "    # print('final_step_count >>', final_step_count)\n",
    "    # print('final_erase_zero_count >>', final_erase_zero_count)\n",
    "    count_zero(string)\n",
    "    \n",
    "    \n",
    "    "
   ]
  },
  {
   "cell_type": "code",
   "execution_count": 137,
   "metadata": {},
   "outputs": [],
   "source": [
    "count_zero(test)"
   ]
  },
  {
   "cell_type": "code",
   "execution_count": 131,
   "metadata": {},
   "outputs": [],
   "source": [
    "a"
   ]
  },
  {
   "cell_type": "code",
   "execution_count": 142,
   "metadata": {},
   "outputs": [],
   "source": [
    "def solution(x):\n",
    "    answer = []\n",
    "    \n",
    "    cnt = 0\n",
    "    zero = 0\n",
    "    while True:\n",
    "        if x == '1':\n",
    "            return\n",
    "        zero = zero + x.count('0')\n",
    "        x = x.replace('0', '')\n",
    "        \n",
    "        x = bin(len(x))[2:]\n",
    "        cnt += 1\n",
    "    answer  = [cnt, zero]\n",
    "    print(answer)\n",
    "    return answer"
   ]
  },
  {
   "cell_type": "code",
   "execution_count": 145,
   "metadata": {},
   "outputs": [
    {
     "name": "stdout",
     "output_type": "stream",
     "text": [
      "[3, 8]\n"
     ]
    },
    {
     "data": {
      "text/plain": [
       "[3, 8]"
      ]
     },
     "execution_count": 145,
     "metadata": {},
     "output_type": "execute_result"
    }
   ],
   "source": [
    "solution(test)"
   ]
  },
  {
   "cell_type": "code",
   "execution_count": 144,
   "metadata": {},
   "outputs": [],
   "source": [
    "def solution(x):\n",
    "    answer = []\n",
    "    \n",
    "    cnt = 0\n",
    "    zero = 0\n",
    "    while True:\n",
    "        if x == '1':\n",
    "            break\n",
    "        zero = zero + x.count('0')\n",
    "        x = x.replace('0', '')\n",
    "        \n",
    "        x = bin(len(x))[2:]\n",
    "        cnt += 1\n",
    "    answer  = [cnt, zero]\n",
    "    # print(answer)\n",
    "    return answer"
   ]
  },
  {
   "cell_type": "code",
   "execution_count": 2,
   "metadata": {},
   "outputs": [],
   "source": [
    "# 이중우선순위큐\n",
    "# python queue\n",
    "# queue 는 FIFO(First In First Out) 방식으로 데이터를 처리하는 자료구조\n",
    "\n",
    "from collections import deque"
   ]
  },
  {
   "cell_type": "code",
   "execution_count": 26,
   "metadata": {},
   "outputs": [],
   "source": [
    "list = [10, 5]\n",
    "list.remove(10)"
   ]
  },
  {
   "cell_type": "code",
   "execution_count": 27,
   "metadata": {},
   "outputs": [
    {
     "data": {
      "text/plain": [
       "[5]"
      ]
     },
     "execution_count": 27,
     "metadata": {},
     "output_type": "execute_result"
    }
   ],
   "source": [
    "list"
   ]
  },
  {
   "cell_type": "code",
   "execution_count": 28,
   "metadata": {},
   "outputs": [],
   "source": [
    "list.remove(max(list))"
   ]
  },
  {
   "cell_type": "code",
   "execution_count": 29,
   "metadata": {},
   "outputs": [
    {
     "data": {
      "text/plain": [
       "[]"
      ]
     },
     "execution_count": 29,
     "metadata": {},
     "output_type": "execute_result"
    }
   ],
   "source": [
    "list"
   ]
  },
  {
   "cell_type": "code",
   "execution_count": 152,
   "metadata": {},
   "outputs": [],
   "source": [
    "queue.append(8)"
   ]
  },
  {
   "cell_type": "code",
   "execution_count": 153,
   "metadata": {},
   "outputs": [
    {
     "data": {
      "text/plain": [
       "deque([7, 8])"
      ]
     },
     "execution_count": 153,
     "metadata": {},
     "output_type": "execute_result"
    }
   ],
   "source": [
    "queue"
   ]
  },
  {
   "cell_type": "code",
   "execution_count": 154,
   "metadata": {},
   "outputs": [
    {
     "data": {
      "text/plain": [
       "7"
      ]
     },
     "execution_count": 154,
     "metadata": {},
     "output_type": "execute_result"
    }
   ],
   "source": [
    "queue.popleft()"
   ]
  },
  {
   "cell_type": "code",
   "execution_count": 43,
   "metadata": {},
   "outputs": [],
   "source": [
    "# operations = [\"I 16\", \"I -5643\", \"D -1\", \"D 1\", \"D 1\", \"I 123\", \"D -1\"]\n",
    "operations = [\"I -45\", \"I 653\", \"D 1\", \"I -642\", \"I 45\", \"I 97\", \"D 1\", \"D -1\", \"I 333\"]"
   ]
  },
  {
   "cell_type": "code",
   "execution_count": 44,
   "metadata": {},
   "outputs": [
    {
     "name": "stdout",
     "output_type": "stream",
     "text": [
      "I -45\n",
      "deque(['I 653', 'D 1', 'I -642', 'I 45', 'I 97', 'D 1', 'D -1', 'I 333'])\n",
      "[-45]\n",
      "------\n",
      "I 653\n",
      "deque(['D 1', 'I -642', 'I 45', 'I 97', 'D 1', 'D -1', 'I 333'])\n",
      "[-45, 653]\n",
      "------\n",
      "D 1\n",
      "deque(['I -642', 'I 45', 'I 97', 'D 1', 'D -1', 'I 333'])\n",
      "[-45]\n",
      "------\n",
      "I -642\n",
      "deque(['I 45', 'I 97', 'D 1', 'D -1', 'I 333'])\n",
      "[-45, -642]\n",
      "------\n",
      "I 45\n",
      "deque(['I 97', 'D 1', 'D -1', 'I 333'])\n",
      "[-45, -642, 45]\n",
      "------\n",
      "I 97\n",
      "deque(['D 1', 'D -1', 'I 333'])\n",
      "[-45, -642, 45, 97]\n",
      "------\n",
      "D 1\n",
      "deque(['D -1', 'I 333'])\n",
      "[-45, -642, 45]\n",
      "------\n",
      "D -1\n",
      "deque(['I 333'])\n",
      "[-45, 45]\n",
      "------\n",
      "I 333\n",
      "deque([])\n",
      "[-45, 45, 333]\n",
      "------\n",
      "result >>> [333, -45]\n"
     ]
    }
   ],
   "source": [
    "answer = []\n",
    "queue = deque(operations)\n",
    "while len(queue) != 0:\n",
    "    a = queue.popleft()\n",
    "    print(a)\n",
    "    if a == 'D 1':\n",
    "        if len(answer) == 0:\n",
    "            continue\n",
    "        else:\n",
    "            answer.remove(max(answer))\n",
    "    elif a == 'D -1':\n",
    "        if len(answer) == 0:\n",
    "            continue\n",
    "        else:\n",
    "            answer.remove(min(answer))\n",
    "    else:\n",
    "        answer.append(int(a[2:]))\n",
    "    print(queue)\n",
    "    print(answer)\n",
    "    print('------')\n",
    "if answer == []:\n",
    "    answer = [0,0]\n",
    "    print('result >>>', answer)\n",
    "else:\n",
    "    answer = [max(answer), min(answer)]\n",
    "    print('result >>>', answer)"
   ]
  },
  {
   "cell_type": "code",
   "execution_count": 158,
   "metadata": {},
   "outputs": [],
   "source": [
    "from collections import deque\n",
    "\n",
    "def solution(operations):\n",
    "    answer = []\n",
    "    queue = deque(operations)\n",
    "    while len(queue) != 0:\n",
    "        a = queue.popleft()\n",
    "        if a == 'D 1':\n",
    "            if len(answer) == 0:\n",
    "                continue\n",
    "            else:\n",
    "                answer.remove(max(answer))\n",
    "        elif a == 'D -1':\n",
    "            if len(answer) == 0:\n",
    "                continue\n",
    "            else:\n",
    "                answer.remove(min(answer))\n",
    "        else:\n",
    "            answer.append(int(a[2:]))\n",
    "    if answer == []:\n",
    "        answer = [0,0]\n",
    "    else:\n",
    "        answer = [max(answer), min(answer)]\n",
    "        \n",
    "    return answer"
   ]
  },
  {
   "cell_type": "code",
   "execution_count": 159,
   "metadata": {},
   "outputs": [
    {
     "name": "stdout",
     "output_type": "stream",
     "text": [
      "I 16\n",
      "deque(['I -5643', 'D -1', 'D 1', 'D 1', 'I 123', 'D -1'])\n"
     ]
    },
    {
     "data": {
      "text/plain": [
       "[]"
      ]
     },
     "execution_count": 159,
     "metadata": {},
     "output_type": "execute_result"
    }
   ],
   "source": [
    "solution(operations)"
   ]
  },
  {
   "cell_type": "code",
   "execution_count": 58,
   "metadata": {},
   "outputs": [],
   "source": [
    "# DFS/BFS 단어 변환\n",
    "# function that convert alphabet into ascii code\n",
    "def convert_ascii(words):\n",
    "    ascii_code_graph = []\n",
    "    \n",
    "    for word in words:\n",
    "        ascii_code = []\n",
    "        for i in word:\n",
    "            ascii_code.append(ord(i))\n",
    "        ascii_code_graph.append(ascii_code)\n",
    "    \n",
    "    return ascii_code_graph"
   ]
  },
  {
   "cell_type": "code",
   "execution_count": 70,
   "metadata": {},
   "outputs": [
    {
     "data": {
      "text/plain": [
       "98"
      ]
     },
     "execution_count": 70,
     "metadata": {},
     "output_type": "execute_result"
    }
   ],
   "source": [
    "ord('b')"
   ]
  },
  {
   "cell_type": "code",
   "execution_count": 75,
   "metadata": {},
   "outputs": [],
   "source": [
    "begin = 'hit'\n",
    "target = 'cog'\n",
    "words = [\"hot\", \"dot\", \"dog\", \"lot\", \"log\", \"cog\"]"
   ]
  },
  {
   "cell_type": "code",
   "execution_count": 82,
   "metadata": {},
   "outputs": [
    {
     "name": "stdout",
     "output_type": "stream",
     "text": [
      "hit 0\n",
      "hot 1\n",
      "dot 2\n",
      "lot 2\n",
      "dog 3\n",
      "log 3\n",
      "cog 4\n",
      "4\n"
     ]
    }
   ],
   "source": [
    "answer = 0\n",
    "q = deque()\n",
    "\n",
    "q.append([begin, 0])\n",
    "V = [0 for i in range(len(words))]\n",
    "while q:\n",
    "    word, cnt = q.popleft()\n",
    "    print(word, cnt)\n",
    "    if word == target:\n",
    "        answer = cnt\n",
    "        break\n",
    "    for i in range(len(words)):\n",
    "        temp_cnt = 0\n",
    "        if not V[i]:\n",
    "            for j in range(len(word)):\n",
    "                if word[j] != words[i][j]:\n",
    "                    temp_cnt += 1\n",
    "            if temp_cnt == 1:\n",
    "                q.append([words[i], cnt+1])\n",
    "                V[i] = 1\n",
    "print(answer)\n"
   ]
  },
  {
   "cell_type": "code",
   "execution_count": 77,
   "metadata": {},
   "outputs": [
    {
     "data": {
      "text/plain": [
       "[0, 0, 0, 0, 0, 0]"
      ]
     },
     "execution_count": 77,
     "metadata": {},
     "output_type": "execute_result"
    }
   ],
   "source": [
    "V"
   ]
  },
  {
   "cell_type": "code",
   "execution_count": 89,
   "metadata": {},
   "outputs": [],
   "source": [
    "# 깊이/너비 우선 탐색(DFS/BFS) > 네트워크\n",
    "\n",
    "computers = [[1, 1, 0], [1, 1, 0], [0, 0, 1]]\n",
    "n = 3\n",
    "\n",
    "def solution(n, computers):\n",
    "    answer = 0\n",
    "    visited = [False for i in range(n)]\n",
    "    for i in range(n):\n",
    "        if visited[i] == False:\n",
    "            dfs(n, computers, visited, i)\n",
    "            answer += 1\n",
    "    \n",
    "    return answer\n",
    "\n",
    "def dfs(n, computers, visited, start):\n",
    "    visited[start] = True\n",
    "    for i in range(n):\n",
    "        if i != start and computers[start][i] == 1:\n",
    "            if visited[i] == False:\n",
    "                dfs(n, computers, visited, i)\n",
    "    \n",
    "        "
   ]
  },
  {
   "cell_type": "code",
   "execution_count": 90,
   "metadata": {},
   "outputs": [
    {
     "data": {
      "text/plain": [
       "2"
      ]
     },
     "execution_count": 90,
     "metadata": {},
     "output_type": "execute_result"
    }
   ],
   "source": [
    "solution(n, computers)"
   ]
  },
  {
   "cell_type": "code",
   "execution_count": null,
   "metadata": {},
   "outputs": [],
   "source": [
    "def solution(n, computers):\n",
    "    answer = 0\n",
    "    visited = [False for i in range(n)]\n",
    "    for i in range(n):\n",
    "        if visited[i] == False:\n",
    "            DFS(n, computers, visited, i)\n",
    "            answer += 1\n",
    "    return answer\n",
    "\n",
    "def DFS(n, computers, visited, start):\n",
    "    visited[start] = True\n",
    "    for i in range(n):\n",
    "        if i != start and computers[start][i] == 1:\n",
    "            if visited[i] == False:\n",
    "                DFS(n, computers, visited, i)\n",
    "                \n",
    "                "
   ]
  }
 ],
 "metadata": {
  "kernelspec": {
   "display_name": "Python 3.10.5 64-bit",
   "language": "python",
   "name": "python3"
  },
  "language_info": {
   "codemirror_mode": {
    "name": "ipython",
    "version": 3
   },
   "file_extension": ".py",
   "mimetype": "text/x-python",
   "name": "python",
   "nbconvert_exporter": "python",
   "pygments_lexer": "ipython3",
   "version": "3.9.10"
  },
  "orig_nbformat": 4,
  "vscode": {
   "interpreter": {
    "hash": "aee8b7b246df8f9039afb4144a1f6fd8d2ca17a180786b69acc140d282b71a49"
   }
  }
 },
 "nbformat": 4,
 "nbformat_minor": 2
}
