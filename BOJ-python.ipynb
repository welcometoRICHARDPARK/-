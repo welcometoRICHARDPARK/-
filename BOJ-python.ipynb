{
 "cells": [
  {
   "cell_type": "code",
   "execution_count": null,
   "metadata": {},
   "outputs": [],
   "source": []
  },
  {
   "cell_type": "markdown",
   "metadata": {},
   "source": [
    "### 생산 공정"
   ]
  },
  {
   "cell_type": "markdown",
   "metadata": {},
   "source": [
    "현대모비스는 자동차 부품 생산을 위한 N개의 생산 공정이 가동되고 있다. \n",
    "생산 공정은 1개 이상, 10개 이하의 유닛으로 구성되어 있으며, 한 공정 과정인 유닛은 알파벳 대문자로 표현된다. "
   ]
  },
  {
   "cell_type": "markdown",
   "metadata": {},
   "source": [
    "### 현대백화점"
   ]
  },
  {
   "cell_type": "code",
   "execution_count": 10,
   "metadata": {},
   "outputs": [
    {
     "name": "stdout",
     "output_type": "stream",
     "text": [
      "[[]]\n"
     ]
    },
    {
     "ename": "RecursionError",
     "evalue": "maximum recursion depth exceeded in comparison",
     "output_type": "error",
     "traceback": [
      "\u001b[0;31m---------------------------------------------------------------------------\u001b[0m",
      "\u001b[0;31mRecursionError\u001b[0m                            Traceback (most recent call last)",
      "\u001b[0;32m<ipython-input-10-f5f95b7ad7db>\u001b[0m in \u001b[0;36m<module>\u001b[0;34m\u001b[0m\n\u001b[1;32m     26\u001b[0m \u001b[0;32mfor\u001b[0m \u001b[0mi\u001b[0m \u001b[0;32min\u001b[0m \u001b[0mrange\u001b[0m\u001b[0;34m(\u001b[0m\u001b[0mn\u001b[0m\u001b[0;34m)\u001b[0m \u001b[0;34m:\u001b[0m\u001b[0;34m\u001b[0m\u001b[0;34m\u001b[0m\u001b[0m\n\u001b[1;32m     27\u001b[0m     \u001b[0;32mfor\u001b[0m \u001b[0mj\u001b[0m \u001b[0;32min\u001b[0m \u001b[0mrange\u001b[0m\u001b[0;34m(\u001b[0m\u001b[0mm\u001b[0m\u001b[0;34m)\u001b[0m \u001b[0;34m:\u001b[0m\u001b[0;34m\u001b[0m\u001b[0;34m\u001b[0m\u001b[0m\n\u001b[0;32m---> 28\u001b[0;31m         \u001b[0mdfs\u001b[0m\u001b[0;34m(\u001b[0m\u001b[0mi\u001b[0m\u001b[0;34m,\u001b[0m \u001b[0mj\u001b[0m\u001b[0;34m)\u001b[0m\u001b[0;34m\u001b[0m\u001b[0;34m\u001b[0m\u001b[0m\n\u001b[0m",
      "\u001b[0;32m<ipython-input-10-f5f95b7ad7db>\u001b[0m in \u001b[0;36mdfs\u001b[0;34m(x, y)\u001b[0m\n\u001b[1;32m     15\u001b[0m         \u001b[0msection\u001b[0m\u001b[0;34m.\u001b[0m\u001b[0mappend\u001b[0m\u001b[0;34m(\u001b[0m\u001b[0mgraph\u001b[0m\u001b[0;34m[\u001b[0m\u001b[0mx\u001b[0m\u001b[0;34m]\u001b[0m\u001b[0;34m[\u001b[0m\u001b[0my\u001b[0m\u001b[0;34m]\u001b[0m\u001b[0;34m)\u001b[0m\u001b[0;34m\u001b[0m\u001b[0;34m\u001b[0m\u001b[0m\n\u001b[1;32m     16\u001b[0m         \u001b[0mdfs\u001b[0m\u001b[0;34m(\u001b[0m\u001b[0mx\u001b[0m\u001b[0;34m-\u001b[0m\u001b[0;36m1\u001b[0m\u001b[0;34m,\u001b[0m \u001b[0my\u001b[0m\u001b[0;34m)\u001b[0m\u001b[0;34m\u001b[0m\u001b[0;34m\u001b[0m\u001b[0m\n\u001b[0;32m---> 17\u001b[0;31m         \u001b[0mdfs\u001b[0m\u001b[0;34m(\u001b[0m\u001b[0mx\u001b[0m\u001b[0;34m+\u001b[0m\u001b[0;36m1\u001b[0m\u001b[0;34m,\u001b[0m \u001b[0my\u001b[0m\u001b[0;34m)\u001b[0m\u001b[0;34m\u001b[0m\u001b[0;34m\u001b[0m\u001b[0m\n\u001b[0m\u001b[1;32m     18\u001b[0m         \u001b[0mdfs\u001b[0m\u001b[0;34m(\u001b[0m\u001b[0mx\u001b[0m\u001b[0;34m,\u001b[0m \u001b[0my\u001b[0m\u001b[0;34m+\u001b[0m\u001b[0;36m1\u001b[0m\u001b[0;34m)\u001b[0m\u001b[0;34m\u001b[0m\u001b[0;34m\u001b[0m\u001b[0m\n\u001b[1;32m     19\u001b[0m         \u001b[0mdfs\u001b[0m\u001b[0;34m(\u001b[0m\u001b[0mx\u001b[0m\u001b[0;34m,\u001b[0m \u001b[0my\u001b[0m\u001b[0;34m-\u001b[0m\u001b[0;36m1\u001b[0m\u001b[0;34m)\u001b[0m\u001b[0;34m\u001b[0m\u001b[0;34m\u001b[0m\u001b[0m\n",
      "\u001b[0;32m<ipython-input-10-f5f95b7ad7db>\u001b[0m in \u001b[0;36mdfs\u001b[0;34m(x, y)\u001b[0m\n\u001b[1;32m     14\u001b[0m     \u001b[0;32mif\u001b[0m \u001b[0mgraph\u001b[0m\u001b[0;34m[\u001b[0m\u001b[0mx\u001b[0m\u001b[0;34m]\u001b[0m\u001b[0;34m[\u001b[0m\u001b[0my\u001b[0m\u001b[0;34m]\u001b[0m \u001b[0;34m!=\u001b[0m \u001b[0;36m1\u001b[0m \u001b[0;34m:\u001b[0m\u001b[0;34m\u001b[0m\u001b[0;34m\u001b[0m\u001b[0m\n\u001b[1;32m     15\u001b[0m         \u001b[0msection\u001b[0m\u001b[0;34m.\u001b[0m\u001b[0mappend\u001b[0m\u001b[0;34m(\u001b[0m\u001b[0mgraph\u001b[0m\u001b[0;34m[\u001b[0m\u001b[0mx\u001b[0m\u001b[0;34m]\u001b[0m\u001b[0;34m[\u001b[0m\u001b[0my\u001b[0m\u001b[0;34m]\u001b[0m\u001b[0;34m)\u001b[0m\u001b[0;34m\u001b[0m\u001b[0;34m\u001b[0m\u001b[0m\n\u001b[0;32m---> 16\u001b[0;31m         \u001b[0mdfs\u001b[0m\u001b[0;34m(\u001b[0m\u001b[0mx\u001b[0m\u001b[0;34m-\u001b[0m\u001b[0;36m1\u001b[0m\u001b[0;34m,\u001b[0m \u001b[0my\u001b[0m\u001b[0;34m)\u001b[0m\u001b[0;34m\u001b[0m\u001b[0;34m\u001b[0m\u001b[0m\n\u001b[0m\u001b[1;32m     17\u001b[0m         \u001b[0mdfs\u001b[0m\u001b[0;34m(\u001b[0m\u001b[0mx\u001b[0m\u001b[0;34m+\u001b[0m\u001b[0;36m1\u001b[0m\u001b[0;34m,\u001b[0m \u001b[0my\u001b[0m\u001b[0;34m)\u001b[0m\u001b[0;34m\u001b[0m\u001b[0;34m\u001b[0m\u001b[0m\n\u001b[1;32m     18\u001b[0m         \u001b[0mdfs\u001b[0m\u001b[0;34m(\u001b[0m\u001b[0mx\u001b[0m\u001b[0;34m,\u001b[0m \u001b[0my\u001b[0m\u001b[0;34m+\u001b[0m\u001b[0;36m1\u001b[0m\u001b[0;34m)\u001b[0m\u001b[0;34m\u001b[0m\u001b[0;34m\u001b[0m\u001b[0m\n",
      "... last 2 frames repeated, from the frame below ...\n",
      "\u001b[0;32m<ipython-input-10-f5f95b7ad7db>\u001b[0m in \u001b[0;36mdfs\u001b[0;34m(x, y)\u001b[0m\n\u001b[1;32m     15\u001b[0m         \u001b[0msection\u001b[0m\u001b[0;34m.\u001b[0m\u001b[0mappend\u001b[0m\u001b[0;34m(\u001b[0m\u001b[0mgraph\u001b[0m\u001b[0;34m[\u001b[0m\u001b[0mx\u001b[0m\u001b[0;34m]\u001b[0m\u001b[0;34m[\u001b[0m\u001b[0my\u001b[0m\u001b[0;34m]\u001b[0m\u001b[0;34m)\u001b[0m\u001b[0;34m\u001b[0m\u001b[0;34m\u001b[0m\u001b[0m\n\u001b[1;32m     16\u001b[0m         \u001b[0mdfs\u001b[0m\u001b[0;34m(\u001b[0m\u001b[0mx\u001b[0m\u001b[0;34m-\u001b[0m\u001b[0;36m1\u001b[0m\u001b[0;34m,\u001b[0m \u001b[0my\u001b[0m\u001b[0;34m)\u001b[0m\u001b[0;34m\u001b[0m\u001b[0;34m\u001b[0m\u001b[0m\n\u001b[0;32m---> 17\u001b[0;31m         \u001b[0mdfs\u001b[0m\u001b[0;34m(\u001b[0m\u001b[0mx\u001b[0m\u001b[0;34m+\u001b[0m\u001b[0;36m1\u001b[0m\u001b[0;34m,\u001b[0m \u001b[0my\u001b[0m\u001b[0;34m)\u001b[0m\u001b[0;34m\u001b[0m\u001b[0;34m\u001b[0m\u001b[0m\n\u001b[0m\u001b[1;32m     18\u001b[0m         \u001b[0mdfs\u001b[0m\u001b[0;34m(\u001b[0m\u001b[0mx\u001b[0m\u001b[0;34m,\u001b[0m \u001b[0my\u001b[0m\u001b[0;34m+\u001b[0m\u001b[0;36m1\u001b[0m\u001b[0;34m)\u001b[0m\u001b[0;34m\u001b[0m\u001b[0;34m\u001b[0m\u001b[0m\n\u001b[1;32m     19\u001b[0m         \u001b[0mdfs\u001b[0m\u001b[0;34m(\u001b[0m\u001b[0mx\u001b[0m\u001b[0;34m,\u001b[0m \u001b[0my\u001b[0m\u001b[0;34m-\u001b[0m\u001b[0;36m1\u001b[0m\u001b[0;34m)\u001b[0m\u001b[0;34m\u001b[0m\u001b[0;34m\u001b[0m\u001b[0m\n",
      "\u001b[0;31mRecursionError\u001b[0m: maximum recursion depth exceeded in comparison"
     ]
    }
   ],
   "source": [
    "# DFS \n",
    "n, m = map(int, input().split())\n",
    "\n",
    "# 2 이면 -2 0 이면 1 더하기 \n",
    "graph = []\n",
    "for i in range(n) :\n",
    "    graph.append(list(map(int, input().split())))\n",
    "\n",
    "sections = []\n",
    "section = []\n",
    "def dfs(x, y) :\n",
    "    if x <= -1 or x >= n or y <= -1 or y >= m :\n",
    "        return False \n",
    "    if graph[x][y] != 1 :\n",
    "        section.append(graph[x][y])\n",
    "        dfs(x-1, y)\n",
    "        dfs(x+1, y)\n",
    "        dfs(x, y+1)\n",
    "        dfs(x, y-1)\n",
    "        return True\n",
    "    sections.append(section)\n",
    "    print(sections)\n",
    "    return False\n",
    "\n",
    "result = 0\n",
    "for i in range(n) :\n",
    "    for j in range(m) :\n",
    "        dfs(i, j)"
   ]
  },
  {
   "cell_type": "code",
   "execution_count": null,
   "metadata": {},
   "outputs": [],
   "source": [
    "6 5\n",
    "1 2 0 1 1\n",
    "0 2 1 2 0\n",
    "0 0 0 2 0\n",
    "1 1 1 1 1\n",
    "0 0 1 1 1\n",
    "0 0 1 1 1"
   ]
  },
  {
   "cell_type": "code",
   "execution_count": 27,
   "metadata": {},
   "outputs": [
    {
     "name": "stdout",
     "output_type": "stream",
     "text": [
      "1 2 4 3 \n",
      "1 2 3 4 "
     ]
    }
   ],
   "source": [
    "from collections import deque\n",
    "\n",
    "n, m, v = map(int, input().split())\n",
    "\n",
    "# dfs\n",
    "def dfs(graph, start, visited) :\n",
    "    visited[start] = True\n",
    "    print(start, end = ' ')\n",
    "    \n",
    "    for i in graph[start] :\n",
    "        if not visited[i] :\n",
    "            dfs(graph, i, visited)\n",
    "            \n",
    "visited = [False] * (n+1)\n",
    "\n",
    "\n",
    "# bfs\n",
    "\n",
    "visited_bfs = [False] * (n+1)\n",
    "\n",
    "def bfs(graph, start, visited) :\n",
    "    visited_bfs[start] = True\n",
    "    queue = deque([start])\n",
    "    \n",
    "    while queue :\n",
    "        v = queue.popleft()\n",
    "        print(v, end=' ')\n",
    "        \n",
    "        for i in graph[v] :\n",
    "            if not visited_bfs[i] :\n",
    "                queue.append(i)\n",
    "                visited_bfs[i] = True\n",
    "        \n",
    "\n",
    "graph = [[] for _ in range(n+1)]\n",
    "for i in range(m) :\n",
    "    a,b = map(int, input().split())\n",
    "    graph[a].append(b)\n",
    "    graph[b].append(a)\n",
    "    \n",
    "for i in range(len(graph)) :\n",
    "    graph[i].sort()\n",
    "    \n",
    "    \n",
    "dfs(graph, v, visited)\n",
    "print()\n",
    "bfs(graph, v, visited_bfs)\n"
   ]
  },
  {
   "cell_type": "code",
   "execution_count": 15,
   "metadata": {},
   "outputs": [
    {
     "name": "stdout",
     "output_type": "stream",
     "text": [
      "4\n"
     ]
    }
   ],
   "source": [
    "# 2606 - dfs \n",
    "# 컴퓨터의 수와 네트워크 상에서 서로 연결되어 있는 정보가 주어질 때,\n",
    "# 1번 컴퓨터를 통해 웜 바이러스에 걸리게 되는 컴퓨터의 수를 출력 하는 문제\n",
    "n = int(input())\n",
    "m = int(input())\n",
    "\n",
    "graph = [[] for _ in range(n+1)]\n",
    "visited = [False] * (n+1)\n",
    "for i in range(m) :\n",
    "    a,b = map(int, input().split())\n",
    "    graph[a].append(b)\n",
    "    graph[b].append(a)\n",
    "\n",
    "count = 0\n",
    "def dfs(graph, start, visited) :\n",
    "    global count # 내가 생각하지 못한 부분\n",
    "    visited[start] = True\n",
    "    # count += 1 # 내가 처음 생각한 부분\n",
    "    \n",
    "    for i in graph[start] :\n",
    "        if not visited[i] :\n",
    "            dfs(graph, i, visited)\n",
    "            count += 1 # 내가 생각하지 못한 부분 \n",
    "    \n",
    "\n",
    "dfs(graph, 1, visited)\n",
    "print(count)"
   ]
  },
  {
   "cell_type": "code",
   "execution_count": 14,
   "metadata": {},
   "outputs": [
    {
     "data": {
      "text/plain": [
       "4"
      ]
     },
     "execution_count": 14,
     "metadata": {},
     "output_type": "execute_result"
    }
   ],
   "source": [
    "# 2606 - bfs\n",
    "from collections import deque\n",
    "\n",
    "n = int(input())\n",
    "m = int(input())\n",
    "\n",
    "graph = [[] for _ in range(n+1)]\n",
    "visited_bfs = [False] * (n+1)\n",
    "for i in range(m) :\n",
    "    a,b = map(int, input().split())\n",
    "    graph[a].append(b)\n",
    "    graph[b].append(a)\n",
    "\n",
    "count = 0\n",
    "def bfs(graph, start, visited) :\n",
    "    global count\n",
    "    queue = deque([start])\n",
    "    visited_bfs[start] = True\n",
    "    \n",
    "    while queue :\n",
    "        v = queue.popleft()\n",
    "        for i in graph[v] :\n",
    "            if not visited_bfs[i] :\n",
    "                queue.append(i)\n",
    "                visited_bfs[i] = True\n",
    "                count += 1\n",
    "    \n",
    "    return count \n",
    "    \n",
    "bfs(graph, 1, visited)"
   ]
  },
  {
   "cell_type": "code",
   "execution_count": 27,
   "metadata": {},
   "outputs": [
    {
     "name": "stdout",
     "output_type": "stream",
     "text": [
      "2\n",
      "3\n",
      "3\n"
     ]
    }
   ],
   "source": [
    "# 2667 - dfs\n",
    "n = int(input())\n",
    "\n",
    "graph = []\n",
    "for i in range(n) :\n",
    "    graph.append(list(map(int, input())))\n",
    "    \n",
    "# visited = [] # 여기서는 visited 함수가 필요가 없음 \n",
    "dy = [1,-1,0,0]\n",
    "dx = [0,0,1,-1]\n",
    "\n",
    "def dfs(x, y) :\n",
    "    if x <= -1 or x >= n or y <= -1 or y >= n :\n",
    "        return False\n",
    "\n",
    "    if graph[x][y] == 1 :\n",
    "        graph[x][y] = 0\n",
    "        global count\n",
    "        count += 1\n",
    "        \n",
    "        for i in range(4) :\n",
    "            nx = x + dx[i]\n",
    "            ny = y + dy[i]\n",
    "            dfs(nx,ny)  \n",
    "        return True\n",
    "    return False\n",
    "    \n",
    "count = 0\n",
    "result = 0 \n",
    "num = []\n",
    "for i in range(n) :\n",
    "    for j in range(n) :\n",
    "        if dfs(i, j) == True :\n",
    "            num.append(count)\n",
    "            result += 1\n",
    "            count = 0\n",
    "            \n",
    "num.sort()\n",
    "print(result)\n",
    "\n",
    "for i in range(len(num)) :\n",
    "    print(num[i])\n",
    "            "
   ]
  },
  {
   "cell_type": "code",
   "execution_count": 42,
   "metadata": {},
   "outputs": [
    {
     "name": "stdout",
     "output_type": "stream",
     "text": [
      "2\n"
     ]
    }
   ],
   "source": [
    "# 1012 - DFS\n",
    "import sys\n",
    "sys.setrecursionlimit(10000)\n",
    "\n",
    "t = int(input())\n",
    "\n",
    "\n",
    "# 내가 생각하지 못한 부분\n",
    "\n",
    "\n",
    "def dfs(x, y) :\n",
    "    dx = [-1,1,0,0]\n",
    "    dy = [0,0,-1,1]\n",
    "\n",
    "    if x <= -1 or x >= n or y <= -1 or y >= m  :\n",
    "        return False \n",
    "    if matrix[x][y] == 1 :\n",
    "        matrix[x][y] = -1\n",
    "        \n",
    "        for i in range(4) :\n",
    "            nx = x + dx[i]\n",
    "            ny = y + dy[i]\n",
    "            dfs(nx, ny)\n",
    "        return True\n",
    "    return False\n",
    "\n",
    "\n",
    "for _ in range(t) :\n",
    "    m, n, k = map(int, input().split())\n",
    "    matrix = [[0]*m for _ in range(n)]\n",
    "    count = 0\n",
    "    \n",
    "    for _ in range(k) :\n",
    "        y, x = map(int, input().split())\n",
    "        matrix[x][y] = 1\n",
    "    \n",
    "    for i in range(n) :\n",
    "        for j in range(m) :\n",
    "            if matrix[i][j] > 0 :\n",
    "                dfs(i, j)\n",
    "                count += 1\n",
    "    print(count)\n",
    "    \n"
   ]
  },
  {
   "cell_type": "code",
   "execution_count": 49,
   "metadata": {},
   "outputs": [
    {
     "name": "stdout",
     "output_type": "stream",
     "text": [
      "1\n"
     ]
    }
   ],
   "source": [
    "# 11724 - 연결 요소 갯수를 파악하는 문제 \n",
    "import sys\n",
    "sys.setrecursionlimit(5000)\n",
    "\n",
    "n, m = map(int, input().split())\n",
    "\n",
    "# n : 정점의 갯수\n",
    "# m : 간선의 갯수\n",
    "\n",
    "graph = [[] for _ in range(n+1)]\n",
    "visited = [False] * (n+1)\n",
    "for _ in range(m) :\n",
    "    a, b = map(int, input().split())\n",
    "    graph[a].append(b)\n",
    "    graph[b].append(a)\n",
    "\n",
    "count = 0\n",
    "def dfs(graph, start, visited) :\n",
    "    global count \n",
    "    visited[start] = True\n",
    "    \n",
    "    for i in graph[start] :\n",
    "        if not visited[i] :\n",
    "            dfs(graph, i, visited)\n",
    "            \n",
    "            \n",
    "for i in range(1, n+1) :\n",
    "    if not visited[i] :\n",
    "        if not graph[i] :\n",
    "            count += 1\n",
    "            visited[i] = True\n",
    "        else :\n",
    "            dfs(graph, i, visited)\n",
    "            count += 1\n",
    "print(count)"
   ]
  },
  {
   "cell_type": "code",
   "execution_count": 21,
   "metadata": {},
   "outputs": [
    {
     "name": "stdout",
     "output_type": "stream",
     "text": [
      "9\n"
     ]
    }
   ],
   "source": [
    "# 4963 - 섬의 갯수 \n",
    "\n",
    "w, h = map(int, input().split())\n",
    "\n",
    "graph = []\n",
    "for i in range(h) :\n",
    "    graph.append(list(map(int, input().split())))\n",
    "\n",
    "\n",
    "dx = [1,-1,0,0,-1,-1,1,1]\n",
    "dy = [0,0,-1,1,1,-1,1,-1]\n",
    "\n",
    "def dfs(x, y) :\n",
    "    if x <= -1 or x >= h or y <= -1 or y >= w :\n",
    "        return False\n",
    "    else :\n",
    "        if graph[x][y] == 1 :\n",
    "            graph[x][y] = -1\n",
    "            \n",
    "            for i in range(8) :\n",
    "                nx = x + dx[i]\n",
    "                ny = y + dy[i]\n",
    "                dfs(nx, ny)\n",
    "            return True\n",
    "        \n",
    "    \n",
    "    return False \n",
    "        \n",
    "\n",
    "count = 0        \n",
    "for i in range(h) :\n",
    "    for j in range(w) :\n",
    "        if dfs(i,j) == True :\n",
    "            dfs(i,j)\n",
    "            count += 1\n",
    "            \n",
    "print(count)"
   ]
  },
  {
   "cell_type": "markdown",
   "metadata": {},
   "source": [
    "### 워밍업 문제"
   ]
  },
  {
   "cell_type": "code",
   "execution_count": 32,
   "metadata": {},
   "outputs": [
    {
     "data": {
      "text/plain": [
       "4000"
      ]
     },
     "execution_count": 32,
     "metadata": {},
     "output_type": "execute_result"
    }
   ],
   "source": [
    "# 1번\n",
    "count = 0\n",
    "for i in range(10001):\n",
    "    if '8' in str(i):\n",
    "        count += str(i).count('8')\n",
    "\n",
    "count    "
   ]
  },
  {
   "cell_type": "code",
   "execution_count": 33,
   "metadata": {},
   "outputs": [
    {
     "data": {
      "text/plain": [
       "4000"
      ]
     },
     "execution_count": 33,
     "metadata": {},
     "output_type": "execute_result"
    }
   ],
   "source": [
    "str(list(range(1, 10001))).count('8')"
   ]
  },
  {
   "cell_type": "code",
   "execution_count": 34,
   "metadata": {},
   "outputs": [
    {
     "data": {
      "text/plain": [
       "(3, 4)"
      ]
     },
     "execution_count": 34,
     "metadata": {},
     "output_type": "execute_result"
    }
   ],
   "source": [
    "# 2번 \n",
    "s = [1, 3, 4, 8, 13, 17, 20]\n",
    "\n",
    "m = max(s)\n",
    "\n",
    "index = 0\n",
    "\n",
    "for i in range(len(s)-1) :\n",
    "    if m > s[i+1]-s[i] :\n",
    "        index = i\n",
    "        m = s[i+1]-s[i]\n",
    "        \n",
    "s[index], s[index+1]"
   ]
  },
  {
   "cell_type": "code",
   "execution_count": 36,
   "metadata": {},
   "outputs": [
    {
     "data": {
      "text/plain": [
       "(3, 4)"
      ]
     },
     "execution_count": 36,
     "metadata": {},
     "output_type": "execute_result"
    }
   ],
   "source": [
    "s = [1, 3, 4, 8, 13, 17, 20]\n",
    "ss = [3, 4, 8, 13, 17, 20]\n",
    "sorted(list(zip(s,ss)), key=lambda i:i[1]-i[0])[0]"
   ]
  },
  {
   "cell_type": "code",
   "execution_count": null,
   "metadata": {},
   "outputs": [],
   "source": [
    "# lambda input:output\n",
    "\n",
    "# def f(input) :\n",
    "#     return output"
   ]
  },
  {
   "cell_type": "code",
   "execution_count": 37,
   "metadata": {},
   "outputs": [
    {
     "data": {
      "text/plain": [
       "[1, 4, 9, 16]"
      ]
     },
     "execution_count": 37,
     "metadata": {},
     "output_type": "execute_result"
    }
   ],
   "source": [
    "def 제곱(x) :\n",
    "    return x**2\n",
    "\n",
    "list(map(제곱, [1,2,3,4]))"
   ]
  },
  {
   "cell_type": "code",
   "execution_count": 38,
   "metadata": {},
   "outputs": [
    {
     "data": {
      "text/plain": [
       "[1, 4, 9, 16]"
      ]
     },
     "execution_count": 38,
     "metadata": {},
     "output_type": "execute_result"
    }
   ],
   "source": [
    "list(map(lambda x:x**2, [1,2,3,4]))"
   ]
  },
  {
   "cell_type": "code",
   "execution_count": 39,
   "metadata": {},
   "outputs": [],
   "source": [
    "연결리스트 = {\n",
    "    'head' : {\n",
    "        'value' : 90,\n",
    "        'next' : {\n",
    "            'value' : 2,\n",
    "            'next' : {\n",
    "                'value' : 77,\n",
    "                'next' : None\n",
    "            }\n",
    "        }\n",
    "    }\n",
    "}"
   ]
  },
  {
   "cell_type": "code",
   "execution_count": 41,
   "metadata": {},
   "outputs": [
    {
     "data": {
      "text/plain": [
       "2"
      ]
     },
     "execution_count": 41,
     "metadata": {},
     "output_type": "execute_result"
    }
   ],
   "source": [
    "연결리스트['head']['next']['value']"
   ]
  },
  {
   "cell_type": "code",
   "execution_count": 42,
   "metadata": {},
   "outputs": [
    {
     "data": {
      "text/plain": [
       "{'head': {'value': 12, 'next': {'value': 99, 'next': None}}}"
      ]
     },
     "execution_count": 42,
     "metadata": {},
     "output_type": "execute_result"
    }
   ],
   "source": [
    "연결리스트 = {\n",
    "    'head' : None\n",
    "}\n",
    "\n",
    "list1 = {'value':12, 'next' : None}\n",
    "list2 = {'value':99, 'next' : None}\n",
    "\n",
    "list1['next'] = list2\n",
    "\n",
    "연결리스트['head'] = list1\n",
    "\n",
    "연결리스트"
   ]
  },
  {
   "cell_type": "code",
   "execution_count": 60,
   "metadata": {},
   "outputs": [
    {
     "name": "stdout",
     "output_type": "stream",
     "text": [
      "4 4\n"
     ]
    }
   ],
   "source": [
    "# 10026 DFS\n",
    "import sys\n",
    "sys.setrecursionlimit(10**6)\n",
    "\n",
    "n = int(input())\n",
    "\n",
    "graph = []\n",
    "for i in range(n) :\n",
    "    graph.append(list(input()))\n",
    "\n",
    "dx = [1,-1,0,0]\n",
    "dy = [0,0,1,-1]\n",
    "\n",
    "def dfs(y, x) :\n",
    "    visited[y][x] = 1\n",
    "    \n",
    "    for i in range(4) :\n",
    "        nx = x + dx[i]\n",
    "        ny = y + dy[i]\n",
    "        if nx < n and nx >= 0 and ny < n and ny >= 0 :\n",
    "            if graph[y][x] == graph[ny][nx] and not visited[ny][nx] :\n",
    "                dfs(ny, nx)\n",
    "          \n",
    "\n",
    "visited = [[0 for _ in range(n)] for _ in range(n)]\n",
    "count = 0\n",
    "for i in range(n) :\n",
    "    for j in range(n) :\n",
    "        if not visited[i][j] :\n",
    "            dfs(i,j)\n",
    "            count += 1\n",
    "\n",
    "\n",
    "def cw_dfs(y,x) :\n",
    "    cw_visited[y][x] =1\n",
    "    \n",
    "    for i in range(4) :\n",
    "        nx = x + dx[i]\n",
    "        ny = y + dy[i]\n",
    "        \n",
    "        if ny >= 0 and ny < n and nx >= 0 and nx < n :\n",
    "            color = graph[ny][nx]\n",
    "            if graph[y][x] == graph[ny][nx] and not cw_visited[ny][nx] :\n",
    "                cw_dfs(ny, nx)\n",
    "            elif graph[y][x] != graph[ny][nx] and not cw_visited[ny][nx] :\n",
    "                if color == 'G' :\n",
    "                    if graph[ny][nx] == 'R' :\n",
    "                        cw_dfs(ny,nx)\n",
    "                elif color == 'R' :\n",
    "                    if graph[ny][nx] == 'G' :\n",
    "                        cw_dfs(ny, nx)\n",
    "\n",
    "cw_visited = [[0 for _ in range(n)] for _ in range(n)]\n",
    "cw_count = 0\n",
    "for i in range(n) :\n",
    "    for j in range(n) :\n",
    "        if not cw_visited[i][j] :\n",
    "            cw_dfs(i,j)\n",
    "            cw_count +=1\n",
    "print(count, cw_count)\n"
   ]
  },
  {
   "cell_type": "code",
   "execution_count": 76,
   "metadata": {},
   "outputs": [
    {
     "name": "stdout",
     "output_type": "stream",
     "text": [
      "5\n"
     ]
    }
   ],
   "source": [
    "# 2468\n",
    "import sys\n",
    "sys.setrecursionlimit(100000)\n",
    "\n",
    "n = int(sys.stdin.readline())\n",
    "\n",
    "graph = [list(map(int, sys.stdin.readline().split())) for _ in range(n)]\n",
    "\n",
    "\n",
    "dx = [1,-1,0,0]\n",
    "dy = [0,0,1,-1]\n",
    "\n",
    "def dfs(y, x, k) :\n",
    "    visited[y][x] = 1\n",
    "    for i in range(4) :\n",
    "        nx = x + dx[i]\n",
    "        ny = y + dy[i] \n",
    "        if ny < n and ny >= 0 and nx < n and nx >= 0 :\n",
    "            if graph[ny][nx] > k and visited[ny][nx] == 0 :\n",
    "                visited[y][x] = 1\n",
    "                dfs(ny, nx, k)\n",
    "\n",
    "\n",
    "answer = 1 # 중요함 \n",
    "for r in range(max(map(max, graph))) :\n",
    "    \n",
    "    # for i in range(n) :\n",
    "    #     for j in range(n) :\n",
    "    #         if graph[i][j] <= r :\n",
    "    #             copy_graph[i][j] = 1\n",
    "    #         else :\n",
    "    #             copy_graph[i][j] = 0\n",
    "\n",
    "    # display(graph)\n",
    "    # display(copy_graph)\n",
    "    \n",
    "    visited = [[0]*n for _ in range(n)]\n",
    "    count = 0\n",
    "\n",
    "    for i in range(n) :\n",
    "        for j in range(n) :\n",
    "            if visited[i][j] == 0 and graph[i][j] > r:\n",
    "                count += 1\n",
    "                visited[i][j] = 1\n",
    "                dfs(i, j, r)\n",
    "    answer = max(answer, count)              \n",
    "    \n",
    "print(answer)\n",
    " \n",
    "       \n"
   ]
  },
  {
   "cell_type": "code",
   "execution_count": 81,
   "metadata": {},
   "outputs": [
    {
     "ename": "KeyboardInterrupt",
     "evalue": "",
     "output_type": "error",
     "traceback": [
      "\u001b[0;31m---------------------------------------------------------------------------\u001b[0m",
      "\u001b[0;31mKeyboardInterrupt\u001b[0m                         Traceback (most recent call last)",
      "\u001b[0;32m<ipython-input-81-16ae20bb3cb4>\u001b[0m in \u001b[0;36m<module>\u001b[0;34m\u001b[0m\n\u001b[1;32m      4\u001b[0m \u001b[0minput\u001b[0m \u001b[0;34m=\u001b[0m \u001b[0msys\u001b[0m\u001b[0;34m.\u001b[0m\u001b[0mstdin\u001b[0m\u001b[0;34m.\u001b[0m\u001b[0mreadline\u001b[0m\u001b[0;34m\u001b[0m\u001b[0;34m\u001b[0m\u001b[0m\n\u001b[1;32m      5\u001b[0m \u001b[0;34m\u001b[0m\u001b[0m\n\u001b[0;32m----> 6\u001b[0;31m \u001b[0mr\u001b[0m\u001b[0;34m,\u001b[0m \u001b[0mc\u001b[0m \u001b[0;34m=\u001b[0m \u001b[0mmap\u001b[0m\u001b[0;34m(\u001b[0m\u001b[0mint\u001b[0m\u001b[0;34m,\u001b[0m \u001b[0minput\u001b[0m\u001b[0;34m(\u001b[0m\u001b[0;34m)\u001b[0m\u001b[0;34m.\u001b[0m\u001b[0msplit\u001b[0m\u001b[0;34m(\u001b[0m\u001b[0;34m)\u001b[0m\u001b[0;34m)\u001b[0m\u001b[0;34m\u001b[0m\u001b[0;34m\u001b[0m\u001b[0m\n\u001b[0m\u001b[1;32m      7\u001b[0m \u001b[0;34m\u001b[0m\u001b[0m\n\u001b[1;32m      8\u001b[0m \u001b[0;31m# 알파벳 아스키코드로 변경하여 생각하기\u001b[0m\u001b[0;34m\u001b[0m\u001b[0;34m\u001b[0m\u001b[0;34m\u001b[0m\u001b[0m\n",
      "\u001b[0;31mKeyboardInterrupt\u001b[0m: "
     ]
    }
   ],
   "source": [
    "# 1987\n",
    "import sys\n",
    "sys.setrecursionlimit(10000)\n",
    "input = sys.stdin.readline\n",
    "\n",
    "r, c = map(int, input().split())\n",
    "\n",
    "# 알파벳 아스키코드로 변경하여 생각하기\n",
    "graph = [list(map(lambda x: ord(x)-65, input())) for _ in range(r)]\n",
    "\n",
    "dx = [1,-1,0,0]\n",
    "dy = [0,0,1,-1]\n",
    "\n",
    "def dfs (y, x, count) :\n",
    "    \n",
    "    \n",
    "    global answer\n",
    "    answer = max(answer, count)\n",
    "    \n",
    "    for i in range(4) :\n",
    "        nx = x + dx[i]\n",
    "        ny = y + dy[i]\n",
    "        \n",
    "        if (0 <= nx < c) and (0 <= ny < r) :\n",
    "            if (visited[graph[ny][nx]]==0) :\n",
    "                visited[graph[ny][nx]] = 1\n",
    "                dfs(ny, nx, count+1)\n",
    "                visited[graph[ny][nx]] = 0\n",
    "                \n",
    "          \n",
    "\n",
    "visited = [0] * 26\n",
    "visited[graph[0][0]] = 1  \n",
    "answer = 1             \n",
    "dfs(0,0,answer)\n",
    "            \n",
    "print(answer)\n"
   ]
  },
  {
   "cell_type": "code",
   "execution_count": null,
   "metadata": {},
   "outputs": [],
   "source": []
  },
  {
   "cell_type": "code",
   "execution_count": null,
   "metadata": {},
   "outputs": [],
   "source": []
  }
 ],
 "metadata": {
  "kernelspec": {
   "display_name": "Python 3.8.8 ('base')",
   "language": "python",
   "name": "python3"
  },
  "language_info": {
   "codemirror_mode": {
    "name": "ipython",
    "version": 3
   },
   "file_extension": ".py",
   "mimetype": "text/x-python",
   "name": "python",
   "nbconvert_exporter": "python",
   "pygments_lexer": "ipython3",
   "version": "3.8.8"
  },
  "orig_nbformat": 4,
  "vscode": {
   "interpreter": {
    "hash": "40d3a090f54c6569ab1632332b64b2c03c39dcf918b08424e98f38b5ae0af88f"
   }
  }
 },
 "nbformat": 4,
 "nbformat_minor": 2
}
